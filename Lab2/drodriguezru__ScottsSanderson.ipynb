{
  "cells": [
    {
      "cell_type": "code",
      "execution_count": 749,
      "metadata": {
        "autoscroll": false,
        "ein.tags": "worksheet-0",
        "colab": {
          "base_uri": "https://localhost:8080/",
          "height": 1000
        },
        "id": "JfmoduSXu0zX",
        "outputId": "5ae0a4bc-dadf-46dd-a433-5eb6ec613cd1"
      },
      "outputs": [
        {
          "output_type": "stream",
          "name": "stdout",
          "text": [
            "Requirement already satisfied: fortran-magic in /usr/local/lib/python3.7/dist-packages (0.7)\n",
            "Requirement already satisfied: numpy in /usr/local/lib/python3.7/dist-packages (from fortran-magic) (1.21.5)\n",
            "Requirement already satisfied: ipython in /usr/local/lib/python3.7/dist-packages (from fortran-magic) (5.5.0)\n",
            "Requirement already satisfied: pygments in /usr/local/lib/python3.7/dist-packages (from ipython->fortran-magic) (2.6.1)\n",
            "Requirement already satisfied: prompt-toolkit<2.0.0,>=1.0.4 in /usr/local/lib/python3.7/dist-packages (from ipython->fortran-magic) (1.0.18)\n",
            "Requirement already satisfied: pexpect in /usr/local/lib/python3.7/dist-packages (from ipython->fortran-magic) (4.8.0)\n",
            "Requirement already satisfied: decorator in /usr/local/lib/python3.7/dist-packages (from ipython->fortran-magic) (4.4.2)\n",
            "Requirement already satisfied: pickleshare in /usr/local/lib/python3.7/dist-packages (from ipython->fortran-magic) (0.7.5)\n",
            "Requirement already satisfied: simplegeneric>0.8 in /usr/local/lib/python3.7/dist-packages (from ipython->fortran-magic) (0.8.1)\n",
            "Requirement already satisfied: traitlets>=4.2 in /usr/local/lib/python3.7/dist-packages (from ipython->fortran-magic) (5.1.1)\n",
            "Requirement already satisfied: setuptools>=18.5 in /usr/local/lib/python3.7/dist-packages (from ipython->fortran-magic) (57.4.0)\n",
            "Requirement already satisfied: six>=1.9.0 in /usr/local/lib/python3.7/dist-packages (from prompt-toolkit<2.0.0,>=1.0.4->ipython->fortran-magic) (1.15.0)\n",
            "Requirement already satisfied: wcwidth in /usr/local/lib/python3.7/dist-packages (from prompt-toolkit<2.0.0,>=1.0.4->ipython->fortran-magic) (0.2.5)\n",
            "Requirement already satisfied: ptyprocess>=0.5 in /usr/local/lib/python3.7/dist-packages (from pexpect->ipython->fortran-magic) (0.7.0)\n"
          ]
        },
        {
          "output_type": "stream",
          "name": "stderr",
          "text": [
            "/usr/local/lib/python3.7/dist-packages/fortranmagic.py:147: UserWarning: get_ipython_cache_dir has moved to the IPython.paths module since IPython 4.0.\n",
            "  self._lib_dir = os.path.join(get_ipython_cache_dir(), 'fortran')\n"
          ]
        },
        {
          "output_type": "display_data",
          "data": {
            "application/javascript": [
              "$.getScript(\"https://raw.github.com/marijnh/CodeMirror/master/mode/fortran/fortran.js\", function () {\n",
              "IPython.config.cell_magic_highlight['magic_fortran'] = {'reg':[/^%%fortran/]};});\n"
            ]
          },
          "metadata": {}
        },
        {
          "output_type": "stream",
          "name": "stdout",
          "text": [
            "Requirement already satisfied: pandas-datareader in /usr/local/lib/python3.7/dist-packages (0.10.0)\n",
            "Requirement already satisfied: pandas>=0.23 in /usr/local/lib/python3.7/dist-packages (from pandas-datareader) (1.3.5)\n",
            "Requirement already satisfied: requests>=2.19.0 in /usr/local/lib/python3.7/dist-packages (from pandas-datareader) (2.27.1)\n",
            "Requirement already satisfied: lxml in /usr/local/lib/python3.7/dist-packages (from pandas-datareader) (4.8.0)\n",
            "Requirement already satisfied: python-dateutil>=2.7.3 in /usr/local/lib/python3.7/dist-packages (from pandas>=0.23->pandas-datareader) (2.8.2)\n",
            "Requirement already satisfied: numpy>=1.17.3 in /usr/local/lib/python3.7/dist-packages (from pandas>=0.23->pandas-datareader) (1.21.5)\n",
            "Requirement already satisfied: pytz>=2017.3 in /usr/local/lib/python3.7/dist-packages (from pandas>=0.23->pandas-datareader) (2018.9)\n",
            "Requirement already satisfied: six>=1.5 in /usr/local/lib/python3.7/dist-packages (from python-dateutil>=2.7.3->pandas>=0.23->pandas-datareader) (1.15.0)\n",
            "Requirement already satisfied: idna<4,>=2.5 in /usr/local/lib/python3.7/dist-packages (from requests>=2.19.0->pandas-datareader) (2.10)\n",
            "Requirement already satisfied: urllib3<1.27,>=1.21.1 in /usr/local/lib/python3.7/dist-packages (from requests>=2.19.0->pandas-datareader) (1.24.3)\n",
            "Requirement already satisfied: charset-normalizer~=2.0.0 in /usr/local/lib/python3.7/dist-packages (from requests>=2.19.0->pandas-datareader) (2.0.12)\n",
            "Requirement already satisfied: certifi>=2017.4.17 in /usr/local/lib/python3.7/dist-packages (from requests>=2.19.0->pandas-datareader) (2021.10.8)\n",
            "Requirement already satisfied: quandl in /usr/local/lib/python3.7/dist-packages (3.7.0)\n",
            "Requirement already satisfied: requests>=2.7.0 in /usr/local/lib/python3.7/dist-packages (from quandl) (2.27.1)\n",
            "Requirement already satisfied: more-itertools in /usr/local/lib/python3.7/dist-packages (from quandl) (8.12.0)\n",
            "Requirement already satisfied: numpy>=1.8 in /usr/local/lib/python3.7/dist-packages (from quandl) (1.21.5)\n",
            "Requirement already satisfied: six in /usr/local/lib/python3.7/dist-packages (from quandl) (1.15.0)\n",
            "Requirement already satisfied: python-dateutil in /usr/local/lib/python3.7/dist-packages (from quandl) (2.8.2)\n",
            "Requirement already satisfied: pandas>=0.14 in /usr/local/lib/python3.7/dist-packages (from quandl) (1.3.5)\n",
            "Requirement already satisfied: inflection>=0.3.1 in /usr/local/lib/python3.7/dist-packages (from quandl) (0.5.1)\n",
            "Requirement already satisfied: pytz>=2017.3 in /usr/local/lib/python3.7/dist-packages (from pandas>=0.14->quandl) (2018.9)\n",
            "Requirement already satisfied: idna<4,>=2.5 in /usr/local/lib/python3.7/dist-packages (from requests>=2.7.0->quandl) (2.10)\n",
            "Requirement already satisfied: certifi>=2017.4.17 in /usr/local/lib/python3.7/dist-packages (from requests>=2.7.0->quandl) (2021.10.8)\n",
            "Requirement already satisfied: urllib3<1.27,>=1.21.1 in /usr/local/lib/python3.7/dist-packages (from requests>=2.7.0->quandl) (1.24.3)\n",
            "Requirement already satisfied: charset-normalizer~=2.0.0 in /usr/local/lib/python3.7/dist-packages (from requests>=2.7.0->quandl) (2.0.12)\n",
            "Requirement already satisfied: yfinance in /usr/local/lib/python3.7/dist-packages (0.1.70)\n",
            "Requirement already satisfied: lxml>=4.5.1 in /usr/local/lib/python3.7/dist-packages (from yfinance) (4.8.0)\n",
            "Requirement already satisfied: numpy>=1.15 in /usr/local/lib/python3.7/dist-packages (from yfinance) (1.21.5)\n",
            "Requirement already satisfied: pandas>=0.24.0 in /usr/local/lib/python3.7/dist-packages (from yfinance) (1.3.5)\n",
            "Requirement already satisfied: requests>=2.26 in /usr/local/lib/python3.7/dist-packages (from yfinance) (2.27.1)\n",
            "Requirement already satisfied: multitasking>=0.0.7 in /usr/local/lib/python3.7/dist-packages (from yfinance) (0.0.10)\n",
            "Requirement already satisfied: python-dateutil>=2.7.3 in /usr/local/lib/python3.7/dist-packages (from pandas>=0.24.0->yfinance) (2.8.2)\n",
            "Requirement already satisfied: pytz>=2017.3 in /usr/local/lib/python3.7/dist-packages (from pandas>=0.24.0->yfinance) (2018.9)\n",
            "Requirement already satisfied: six>=1.5 in /usr/local/lib/python3.7/dist-packages (from python-dateutil>=2.7.3->pandas>=0.24.0->yfinance) (1.15.0)\n",
            "Requirement already satisfied: idna<4,>=2.5 in /usr/local/lib/python3.7/dist-packages (from requests>=2.26->yfinance) (2.10)\n",
            "Requirement already satisfied: certifi>=2017.4.17 in /usr/local/lib/python3.7/dist-packages (from requests>=2.26->yfinance) (2021.10.8)\n",
            "Requirement already satisfied: charset-normalizer~=2.0.0 in /usr/local/lib/python3.7/dist-packages (from requests>=2.26->yfinance) (2.0.12)\n",
            "Requirement already satisfied: urllib3<1.27,>=1.21.1 in /usr/local/lib/python3.7/dist-packages (from requests>=2.26->yfinance) (1.24.3)\n",
            "The fortranmagic extension is already loaded. To reload it, use:\n",
            "  %reload_ext fortranmagic\n"
          ]
        }
      ],
      "source": [
        "!pip install -U fortran-magic\n",
        "%reload_ext fortranmagic\n",
        "\n",
        "!pip install --upgrade pandas-datareader\n",
        "\n",
        "import pandas_datareader as pdr\n",
        "import datetime\n",
        "\n",
        "import pandas as pd\n",
        "import numpy as np\n",
        "from statsmodels.tsa.stattools import adfuller\n",
        "import matplotlib.pylab as plt\n",
        "from matplotlib.pylab import rcParams\n",
        "\n",
        "!pip install --upgrade quandl\n",
        "!pip install yfinance\n",
        "import yfinance as yf\n",
        "\n",
        "\n",
        "\n",
        "\n",
        "%matplotlib inline\n",
        "%load_ext fortranmagic\n",
        "\n",
        "import sys; sys.path.append('..')\n",
        "\n",
        "import pandas as pd\n",
        "import numpy as np\n",
        "import matplotlib as mpl\n",
        "import matplotlib.pyplot as plt\n",
        "import seaborn as sns\n",
        "\n",
        "mpl.rc('figure', figsize=(12, 7))\n",
        "\n",
        "ran_the_first_cell = True\n",
        "\n",
        "jan2017 = pd.to_datetime(['2017-01-03 00:00:00+00:00',\n",
        " '2017-01-04 00:00:00+00:00',\n",
        " '2017-01-05 00:00:00+00:00',\n",
        " '2017-01-06 00:00:00+00:00',\n",
        " '2017-01-09 00:00:00+00:00',\n",
        " '2017-01-10 00:00:00+00:00',\n",
        " '2017-01-11 00:00:00+00:00',\n",
        " '2017-01-12 00:00:00+00:00',\n",
        " '2017-01-13 00:00:00+00:00',\n",
        " '2017-01-17 00:00:00+00:00',\n",
        " '2017-01-18 00:00:00+00:00',\n",
        " '2017-01-19 00:00:00+00:00',\n",
        " '2017-01-20 00:00:00+00:00',\n",
        " '2017-01-23 00:00:00+00:00',\n",
        " '2017-01-24 00:00:00+00:00',\n",
        " '2017-01-25 00:00:00+00:00',\n",
        " '2017-01-26 00:00:00+00:00',\n",
        " '2017-01-27 00:00:00+00:00',\n",
        " '2017-01-30 00:00:00+00:00',\n",
        " '2017-01-31 00:00:00+00:00',\n",
        " '2017-02-01 00:00:00+00:00'])\n",
        "calendar = jan2017.values.astype('datetime64[D]')\n",
        "\n",
        "event_dates = pd.to_datetime(['2017-01-06 00:00:00+00:00', \n",
        "                             '2017-01-07 00:00:00+00:00', \n",
        "                             '2017-01-08 00:00:00+00:00']).values.astype('datetime64[D]')\n",
        "event_values = np.array([10, 15, 20])"
      ]
    },
    {
      "cell_type": "markdown",
      "metadata": {
        "ein.tags": "worksheet-0",
        "id": "9TbKlCAcu0zd"
      },
      "source": [
        "<center>\n",
        "  <h1>The PyData Toolbox</h1>\n",
        "  <h3>Scott Sanderson (Twitter: @scottbsanderson, GitHub: ssanderson)</h3>\n",
        "  <h3><a href=\"https://github.com/ssanderson/pydata-toolbox\">https://github.com/ssanderson/pydata-toolbox</a></h3>\n",
        "</center>"
      ]
    },
    {
      "cell_type": "markdown",
      "metadata": {
        "collapsed": true,
        "ein.tags": "worksheet-0",
        "id": "x9DuWaP3u0zf"
      },
      "source": [
        "# About Me:\n",
        "\n",
        "<img src=\"images/me.jpg\" alt=\"Drawing\" style=\"width: 300px;\"/>\n",
        "\n",
        "- Senior Engineer at [Quantopian](www.quantopian.com)\n",
        "- Background in Mathematics and Philosophy\n",
        "- **Twitter:** [@scottbsanderson](https://twitter.com/scottbsanderson)\n",
        "- **GitHub:** [ssanderson](github.com/ssanderson)"
      ]
    },
    {
      "cell_type": "markdown",
      "metadata": {
        "id": "meOG-fF8u0zg"
      },
      "source": [
        "## Outline\n",
        "\n",
        "- Built-in Data Structures\n",
        "- Numpy `array`\n",
        "- Pandas `Series`/`DataFrame`\n",
        "- Plotting and \"Real-World\" Analyses"
      ]
    },
    {
      "cell_type": "markdown",
      "metadata": {
        "id": "4Y7a3rGQu0zh"
      },
      "source": [
        "# Data Structures"
      ]
    },
    {
      "cell_type": "markdown",
      "metadata": {
        "id": "j6DDVnN3u0zi"
      },
      "source": [
        "> Rule 5. Data dominates. If you've chosen the right data structures and organized things well, the algorithms\n",
        "will almost always be self-evident. Data structures, not algorithms, are central to programming.\n",
        "\n",
        "- *Notes on Programming in C*, by Rob Pike."
      ]
    },
    {
      "cell_type": "markdown",
      "metadata": {
        "id": "n0Km6MEXu0zj"
      },
      "source": [
        "# Lists"
      ]
    },
    {
      "cell_type": "code",
      "execution_count": 750,
      "metadata": {
        "collapsed": true,
        "id": "X90hs11vu0zj"
      },
      "outputs": [],
      "source": [
        "assert ran_the_first_cell, \"Oh noes!\""
      ]
    },
    {
      "cell_type": "code",
      "source": [
        "#Ejemplo 1:\n",
        "\n",
        "x = [234, 'gato', 3.1415, 4.245, 1238, \"pero\"]\n",
        "x"
      ],
      "metadata": {
        "colab": {
          "base_uri": "https://localhost:8080/"
        },
        "id": "XZ-ZS-PCxMKH",
        "outputId": "b4b62109-ac39-4a40-e845-e4c35b80165f"
      },
      "execution_count": 751,
      "outputs": [
        {
          "output_type": "execute_result",
          "data": {
            "text/plain": [
              "[234, 'gato', 3.1415, 4.245, 1238, 'pero']"
            ]
          },
          "metadata": {},
          "execution_count": 751
        }
      ]
    },
    {
      "cell_type": "code",
      "execution_count": 752,
      "metadata": {
        "colab": {
          "base_uri": "https://localhost:8080/"
        },
        "id": "_DlOpqw9u0zk",
        "outputId": "81c6858a-4c73-4172-af6e-3d4527306935"
      },
      "outputs": [
        {
          "output_type": "execute_result",
          "data": {
            "text/plain": [
              "[1, 'two', 3.0, 4, 5.0, 'six']"
            ]
          },
          "metadata": {},
          "execution_count": 752
        }
      ],
      "source": [
        "l = [1, 'two', 3.0, 4, 5.0, \"six\"]\n",
        "l"
      ]
    },
    {
      "cell_type": "code",
      "source": [
        "#Ejemplo 2:\n",
        "primero = x[0]\n",
        "segundo = x[1]\n",
        "print(\"primero:\", primero)\n",
        "print(\"segundo:\", segundo)\n"
      ],
      "metadata": {
        "colab": {
          "base_uri": "https://localhost:8080/"
        },
        "id": "ZpRLli5Fxbn5",
        "outputId": "83f6f6c8-96fa-4024-ce84-5aba627e3134"
      },
      "execution_count": 753,
      "outputs": [
        {
          "output_type": "stream",
          "name": "stdout",
          "text": [
            "primero: 234\n",
            "segundo: gato\n"
          ]
        }
      ]
    },
    {
      "cell_type": "code",
      "execution_count": 754,
      "metadata": {
        "colab": {
          "base_uri": "https://localhost:8080/"
        },
        "id": "1o4kryXYu0zl",
        "outputId": "c8a9487a-c03a-4fd6-bc98-d2408b400b75"
      },
      "outputs": [
        {
          "output_type": "stream",
          "name": "stdout",
          "text": [
            "first: 1\n",
            "second: two\n"
          ]
        }
      ],
      "source": [
        "# Lists can be indexed like C-style arrays.\n",
        "first = l[0]\n",
        "second = l[1]\n",
        "print(\"first:\", first)\n",
        "print(\"second:\", second)"
      ]
    },
    {
      "cell_type": "code",
      "source": [
        "#Ejemplo 3\n",
        "\n",
        "ultimo = x[-1]\n",
        "penultimo = x[-2]\n",
        "print(\"ultimo:\", ultimo)\n",
        "print(\"penultimo:\", penultimo)"
      ],
      "metadata": {
        "colab": {
          "base_uri": "https://localhost:8080/"
        },
        "id": "eI_kYW1exllT",
        "outputId": "170b2e97-16a5-46ab-eda6-bc0ccc08dc11"
      },
      "execution_count": 755,
      "outputs": [
        {
          "output_type": "stream",
          "name": "stdout",
          "text": [
            "ultimo: pero\n",
            "penultimo: 1238\n"
          ]
        }
      ]
    },
    {
      "cell_type": "code",
      "execution_count": 756,
      "metadata": {
        "colab": {
          "base_uri": "https://localhost:8080/"
        },
        "id": "6DLfP2Ygu0zm",
        "outputId": "1d621b12-aded-4e75-dfe5-a87308239fd2"
      },
      "outputs": [
        {
          "output_type": "stream",
          "name": "stdout",
          "text": [
            "last: six\n",
            "second to last: 5.0\n"
          ]
        }
      ],
      "source": [
        "# Negative indexing gives elements relative to the end of the list.\n",
        "last = l[-1]\n",
        "penultimate = l[-2]\n",
        "print(\"last:\", last)\n",
        "print(\"second to last:\", penultimate)"
      ]
    },
    {
      "cell_type": "code",
      "source": [
        "#Ejemplo 4\n",
        "sublista = x[0:2]\n",
        "sublista\n"
      ],
      "metadata": {
        "colab": {
          "base_uri": "https://localhost:8080/"
        },
        "id": "Ie12kkaCxvhB",
        "outputId": "e3dfd0be-b8f5-4af9-f8e4-3b3c2462cbaa"
      },
      "execution_count": 757,
      "outputs": [
        {
          "output_type": "execute_result",
          "data": {
            "text/plain": [
              "[234, 'gato']"
            ]
          },
          "metadata": {},
          "execution_count": 757
        }
      ]
    },
    {
      "cell_type": "code",
      "execution_count": 758,
      "metadata": {
        "colab": {
          "base_uri": "https://localhost:8080/"
        },
        "id": "RTxQ9k-qu0zm",
        "outputId": "3aa5e2b5-2239-4113-9001-aa1c6d6b6ad1"
      },
      "outputs": [
        {
          "output_type": "execute_result",
          "data": {
            "text/plain": [
              "['two', 3.0]"
            ]
          },
          "metadata": {},
          "execution_count": 758
        }
      ],
      "source": [
        "# Lists can also be sliced, which makes a copy of elements between \n",
        "# start (inclusive) and stop (exclusive)\n",
        "sublist = l[1:3]\n",
        "sublist"
      ]
    },
    {
      "cell_type": "code",
      "source": [
        "#Ejemplo 5\n",
        "primero_tercero = x[:3]\n",
        "primero_tercero\n"
      ],
      "metadata": {
        "colab": {
          "base_uri": "https://localhost:8080/"
        },
        "id": "KIqNwNlkx1wZ",
        "outputId": "3428a9dc-f3ae-4a80-c9ec-3a0e39f34348"
      },
      "execution_count": 759,
      "outputs": [
        {
          "output_type": "execute_result",
          "data": {
            "text/plain": [
              "[234, 'gato', 3.1415]"
            ]
          },
          "metadata": {},
          "execution_count": 759
        }
      ]
    },
    {
      "cell_type": "code",
      "execution_count": 760,
      "metadata": {
        "colab": {
          "base_uri": "https://localhost:8080/"
        },
        "id": "UlIx79kHu0zn",
        "outputId": "36acb021-29f3-4476-954f-1975881d15cb"
      },
      "outputs": [
        {
          "output_type": "execute_result",
          "data": {
            "text/plain": [
              "[1, 'two', 3.0]"
            ]
          },
          "metadata": {},
          "execution_count": 760
        }
      ],
      "source": [
        "# l[:N] is equivalent to l[0:N].\n",
        "first_three = l[:3]\n",
        "first_three"
      ]
    },
    {
      "cell_type": "code",
      "source": [
        "#Ejemplo 6\n",
        "despues_tres = x[3:]\n",
        "despues_tres"
      ],
      "metadata": {
        "colab": {
          "base_uri": "https://localhost:8080/"
        },
        "id": "RfHx7s5Ix9Oi",
        "outputId": "da46be9f-e578-44d8-93fd-ace7668d977e"
      },
      "execution_count": 761,
      "outputs": [
        {
          "output_type": "execute_result",
          "data": {
            "text/plain": [
              "[4.245, 1238, 'pero']"
            ]
          },
          "metadata": {},
          "execution_count": 761
        }
      ]
    },
    {
      "cell_type": "code",
      "execution_count": 762,
      "metadata": {
        "colab": {
          "base_uri": "https://localhost:8080/"
        },
        "id": "70Ogq-lDu0zn",
        "outputId": "fdc54ba0-6ac6-41dd-d470-d23f39945a5b"
      },
      "outputs": [
        {
          "output_type": "execute_result",
          "data": {
            "text/plain": [
              "[4, 5.0, 'six']"
            ]
          },
          "metadata": {},
          "execution_count": 762
        }
      ],
      "source": [
        "# l[3:] is equivalent to l[3:len(l)].\n",
        "after_three = l[3:]\n",
        "after_three"
      ]
    },
    {
      "cell_type": "code",
      "source": [
        "#Ejemplo 7\n",
        "x = ['z', 'y', 'w', 'v', 'u', 'r', 's','t']\n",
        "x[1:8:2]\n"
      ],
      "metadata": {
        "colab": {
          "base_uri": "https://localhost:8080/"
        },
        "id": "tWc1NYNayP5K",
        "outputId": "dbb76a28-aa03-4f1a-8cc6-1d33365b34a8"
      },
      "execution_count": 763,
      "outputs": [
        {
          "output_type": "execute_result",
          "data": {
            "text/plain": [
              "['y', 'v', 'r', 't']"
            ]
          },
          "metadata": {},
          "execution_count": 763
        }
      ]
    },
    {
      "cell_type": "code",
      "execution_count": 764,
      "metadata": {
        "colab": {
          "base_uri": "https://localhost:8080/"
        },
        "id": "ybUB41Ryu0zo",
        "outputId": "76517bbb-fae4-4f25-c9eb-a3931642cb94"
      },
      "outputs": [
        {
          "output_type": "execute_result",
          "data": {
            "text/plain": [
              "['b', 'd', 'f']"
            ]
          },
          "metadata": {},
          "execution_count": 764
        }
      ],
      "source": [
        "# There's also a third parameter, \"step\", which gets every Nth element.\n",
        "l = ['a', 'b', 'c', 'd', 'e', 'f', 'g','h']\n",
        "l[1:7:2]"
      ]
    },
    {
      "cell_type": "code",
      "source": [
        "#Ejemplo 8\n",
        "x[::-1]\n"
      ],
      "metadata": {
        "colab": {
          "base_uri": "https://localhost:8080/"
        },
        "id": "M4MgwtmXydEj",
        "outputId": "8c9e739a-4b9d-485d-f2c8-88010fbe8345"
      },
      "execution_count": 765,
      "outputs": [
        {
          "output_type": "execute_result",
          "data": {
            "text/plain": [
              "['t', 's', 'r', 'u', 'v', 'w', 'y', 'z']"
            ]
          },
          "metadata": {},
          "execution_count": 765
        }
      ]
    },
    {
      "cell_type": "code",
      "execution_count": 766,
      "metadata": {
        "colab": {
          "base_uri": "https://localhost:8080/"
        },
        "id": "9iWDJpkou0zo",
        "outputId": "1db4f4a2-0c7d-4240-91b3-ea7b6f31cb1f"
      },
      "outputs": [
        {
          "output_type": "execute_result",
          "data": {
            "text/plain": [
              "['h', 'g', 'f', 'e', 'd', 'c', 'b', 'a']"
            ]
          },
          "metadata": {},
          "execution_count": 766
        }
      ],
      "source": [
        "# This is a cute way to reverse a list.\n",
        "l[::-1]"
      ]
    },
    {
      "cell_type": "code",
      "source": [
        "#Ejemplo 9\n",
        "\n",
        "x = [2, 4, 6, 8, 10]\n",
        "print(\"Antes:\", x)\n",
        "x.append('gato')\n",
        "print(\"despues:\", x)"
      ],
      "metadata": {
        "colab": {
          "base_uri": "https://localhost:8080/"
        },
        "id": "8dMdRtOgyhIB",
        "outputId": "9e3b82dd-c5a5-40bf-ee3d-81d5b1520d25"
      },
      "execution_count": 767,
      "outputs": [
        {
          "output_type": "stream",
          "name": "stdout",
          "text": [
            "Antes: [2, 4, 6, 8, 10]\n",
            "despues: [2, 4, 6, 8, 10, 'gato']\n"
          ]
        }
      ]
    },
    {
      "cell_type": "code",
      "execution_count": 768,
      "metadata": {
        "colab": {
          "base_uri": "https://localhost:8080/"
        },
        "id": "W-jMxX9Tu0zt",
        "outputId": "cefdb52c-3bc0-495d-a24f-25dc6e02c269"
      },
      "outputs": [
        {
          "output_type": "stream",
          "name": "stdout",
          "text": [
            "Before: [1, 2, 3, 4, 5]\n",
            "After: [1, 2, 3, 4, 5, 'six']\n"
          ]
        }
      ],
      "source": [
        "# Lists can be grown efficiently (in O(1) amortized time).\n",
        "l = [1, 2, 3, 4, 5]\n",
        "print(\"Before:\", l)\n",
        "l.append('six')\n",
        "print(\"After:\", l)"
      ]
    },
    {
      "cell_type": "code",
      "source": [
        "#Ejemplo 10:\n",
        "\n",
        "x = [2, 4, 6, 8, 10]\n",
        "[y * 2 for y in x]"
      ],
      "metadata": {
        "colab": {
          "base_uri": "https://localhost:8080/"
        },
        "id": "VHmoW0eUytsh",
        "outputId": "24077db0-6dec-45ad-8fe4-011099c24187"
      },
      "execution_count": 769,
      "outputs": [
        {
          "output_type": "execute_result",
          "data": {
            "text/plain": [
              "[4, 8, 12, 16, 20]"
            ]
          },
          "metadata": {},
          "execution_count": 769
        }
      ]
    },
    {
      "cell_type": "code",
      "execution_count": 770,
      "metadata": {
        "colab": {
          "base_uri": "https://localhost:8080/"
        },
        "id": "3bUPTLI6u0zt",
        "outputId": "26f6598a-6e30-431f-bfb3-3ca43be9c9b3"
      },
      "outputs": [
        {
          "output_type": "execute_result",
          "data": {
            "text/plain": [
              "[2, 4, 6, 8, 10]"
            ]
          },
          "metadata": {},
          "execution_count": 770
        }
      ],
      "source": [
        "# Comprehensions let us perform elementwise computations.\n",
        "l = [1, 2, 3, 4, 5]\n",
        "[x * 2 for x in l]"
      ]
    },
    {
      "cell_type": "markdown",
      "metadata": {
        "ein.tags": "worksheet-0",
        "id": "raz80HNYu0zt"
      },
      "source": [
        "## Review: Python Lists\n",
        "\n",
        "- Zero-indexed sequence of arbitrary Python values.\n",
        "- Slicing syntax: `l[start:stop:step]` copies elements at regular intervals from `start` to `stop`.\n",
        "- Efficient (`O(1)`) appends and removes from end.\n",
        "- Comprehension syntax: `[f(x) for x in l if cond(x)]`."
      ]
    },
    {
      "cell_type": "markdown",
      "metadata": {
        "id": "iRs423fEu0zu"
      },
      "source": [
        "# Dictionaries"
      ]
    },
    {
      "cell_type": "code",
      "source": [
        "#Ejemplo 11:\n",
        "\n",
        "Futbolistas = {'David': 'James', 'Falcao': 'García', 'Lionel': 'Messi'}\n",
        "Futbolistas"
      ],
      "metadata": {
        "colab": {
          "base_uri": "https://localhost:8080/"
        },
        "id": "CkFlbhuazQFo",
        "outputId": "555bb5ef-9ced-4bea-9448-04a00e90984e"
      },
      "execution_count": 771,
      "outputs": [
        {
          "output_type": "execute_result",
          "data": {
            "text/plain": [
              "{'David': 'James', 'Falcao': 'García', 'Lionel': 'Messi'}"
            ]
          },
          "metadata": {},
          "execution_count": 771
        }
      ]
    },
    {
      "cell_type": "code",
      "execution_count": 772,
      "metadata": {
        "colab": {
          "base_uri": "https://localhost:8080/"
        },
        "id": "hZG0K4SQu0zu",
        "outputId": "7887f040-7436-4774-fcd6-52b4417225bf"
      },
      "outputs": [
        {
          "output_type": "execute_result",
          "data": {
            "text/plain": [
              "{'Bertrand': 'Russell', 'David': 'Hume', 'Immanuel': 'Kant'}"
            ]
          },
          "metadata": {},
          "execution_count": 772
        }
      ],
      "source": [
        "# Dictionaries are key-value mappings.\n",
        "philosophers = {'David': 'Hume', 'Immanuel': 'Kant', 'Bertrand': 'Russell'}\n",
        "philosophers"
      ]
    },
    {
      "cell_type": "code",
      "source": [
        "#Ejemplo 11:\n",
        "Futbolistas['Cristiano'] = 'Ronaldo'\n",
        "Futbolistas\n"
      ],
      "metadata": {
        "colab": {
          "base_uri": "https://localhost:8080/"
        },
        "id": "g24gaWXxznWR",
        "outputId": "b3995c9f-b4b1-4e7c-9c7a-5628ca8f5c9e"
      },
      "execution_count": 773,
      "outputs": [
        {
          "output_type": "execute_result",
          "data": {
            "text/plain": [
              "{'Cristiano': 'Ronaldo',\n",
              " 'David': 'James',\n",
              " 'Falcao': 'García',\n",
              " 'Lionel': 'Messi'}"
            ]
          },
          "metadata": {},
          "execution_count": 773
        }
      ]
    },
    {
      "cell_type": "code",
      "execution_count": 774,
      "metadata": {
        "colab": {
          "base_uri": "https://localhost:8080/"
        },
        "id": "2RVNjc3ou0zu",
        "outputId": "4b38d144-a645-4d2d-b173-74757c587db1"
      },
      "outputs": [
        {
          "output_type": "execute_result",
          "data": {
            "text/plain": [
              "{'Bertrand': 'Russell',\n",
              " 'David': 'Hume',\n",
              " 'Immanuel': 'Kant',\n",
              " 'Ludwig': 'Wittgenstein'}"
            ]
          },
          "metadata": {},
          "execution_count": 774
        }
      ],
      "source": [
        "# Like lists, dictionaries are size-mutable.\n",
        "philosophers['Ludwig'] = 'Wittgenstein'\n",
        "philosophers"
      ]
    },
    {
      "cell_type": "code",
      "source": [
        "#Ejemplo 12:\n",
        "del Futbolistas['David']\n",
        "Futbolistas"
      ],
      "metadata": {
        "colab": {
          "base_uri": "https://localhost:8080/"
        },
        "id": "WAiNa8utzxuB",
        "outputId": "8ecd529d-5aa8-4647-d76e-cf693d2466f1"
      },
      "execution_count": 775,
      "outputs": [
        {
          "output_type": "execute_result",
          "data": {
            "text/plain": [
              "{'Cristiano': 'Ronaldo', 'Falcao': 'García', 'Lionel': 'Messi'}"
            ]
          },
          "metadata": {},
          "execution_count": 775
        }
      ]
    },
    {
      "cell_type": "code",
      "execution_count": 776,
      "metadata": {
        "colab": {
          "base_uri": "https://localhost:8080/"
        },
        "id": "UfbE5x_7u0zv",
        "outputId": "11bec942-0253-4941-aead-135453c1ba03"
      },
      "outputs": [
        {
          "output_type": "execute_result",
          "data": {
            "text/plain": [
              "{'Bertrand': 'Russell', 'Immanuel': 'Kant', 'Ludwig': 'Wittgenstein'}"
            ]
          },
          "metadata": {},
          "execution_count": 776
        }
      ],
      "source": [
        "del philosophers['David']\n",
        "philosophers"
      ]
    },
    {
      "cell_type": "markdown",
      "metadata": {
        "ein.tags": "worksheet-0",
        "id": "_DSQDGpcu0zw"
      },
      "source": [
        "## Review: Python Dictionaries\n",
        "\n",
        "- Unordered key-value mapping from (almost) arbitrary keys to arbitrary values.\n",
        "- Efficient (`O(1)`) lookup, insertion, and deletion.\n",
        "- No slicing (would require a notion of order)."
      ]
    },
    {
      "cell_type": "markdown",
      "metadata": {
        "id": "sgm4quXYu0zw"
      },
      "source": [
        "<center><img src=\"images/pacino.gif\" alt=\"Drawing\" style=\"width: 100%;\"/></center>\n"
      ]
    },
    {
      "cell_type": "code",
      "source": [
        "#Ejemplo 13:\n",
        "x = [[2, 4, 6],\n",
        "     [8, 10, 12],\n",
        "     [14, 16, 18],\n",
        "     [20, 22, 24]]\n",
        "\n",
        "y = [[3, 5, 7, 9],\n",
        "     [11, 13, 15, 17]]"
      ],
      "metadata": {
        "id": "zdQAg8Xgz31h"
      },
      "execution_count": 777,
      "outputs": []
    },
    {
      "cell_type": "code",
      "execution_count": 778,
      "metadata": {
        "collapsed": true,
        "id": "0kQ3k2CZu0zw"
      },
      "outputs": [],
      "source": [
        "# Suppose we have some matrices...\n",
        "a = [[1, 2, 3],\n",
        "     [2, 3, 4],\n",
        "     [5, 6, 7],\n",
        "     [1, 1, 1]]\n",
        "\n",
        "b = [[1, 2, 3, 4],\n",
        "     [2, 3, 4, 5]]"
      ]
    },
    {
      "cell_type": "code",
      "source": [
        "#Ejemplo 14:\n",
        "def matmul(X, Y):\n",
        "    \"\"\"Multiply matrix A by matrix B.\"\"\"\n",
        "    rows_out = len(X)\n",
        "    cols_out = len(Y[0])\n",
        "    out = [[0 for col in range(cols_out)] for row in range(rows_out)]\n",
        "    \n",
        "    for i in range(rows_out):\n",
        "        for j in range(cols_out):\n",
        "            for k in range(len(T)):\n",
        "                out[i][j] += X[i][k] * Y[k][j]\n",
        "    return out\n",
        "\n"
      ],
      "metadata": {
        "id": "_yDno0IY0Gb6"
      },
      "execution_count": 779,
      "outputs": []
    },
    {
      "cell_type": "code",
      "execution_count": 780,
      "metadata": {
        "collapsed": true,
        "id": "2-1KJ0KQu0zw"
      },
      "outputs": [],
      "source": [
        "def matmul(A, B):\n",
        "    \"\"\"Multiply matrix A by matrix B.\"\"\"\n",
        "    rows_out = len(A)\n",
        "    cols_out = len(B[0])\n",
        "    out = [[0 for col in range(cols_out)] for row in range(rows_out)]\n",
        "    \n",
        "    for i in range(rows_out):\n",
        "        for j in range(cols_out):\n",
        "            for k in range(len(B)):\n",
        "                out[i][j] += A[i][k] * B[k][j]\n",
        "    return out"
      ]
    },
    {
      "cell_type": "markdown",
      "metadata": {
        "id": "1bjm-YGMu0zx"
      },
      "source": [
        "<center><img src=\"images/gross.gif\" alt=\"Drawing\" style=\"width: 50%;\"/></center>\n"
      ]
    },
    {
      "cell_type": "code",
      "source": [
        "#ejemplo 15:\n",
        "\n",
        "%%time\n",
        "matmul(x, y)"
      ],
      "metadata": {
        "colab": {
          "base_uri": "https://localhost:8080/"
        },
        "id": "Em9mQgIP0X5p",
        "outputId": "3ee7a391-0a47-45fd-a5c9-c4e525166324"
      },
      "execution_count": 781,
      "outputs": [
        {
          "output_type": "stream",
          "name": "stdout",
          "text": [
            "CPU times: user 40 µs, sys: 1 µs, total: 41 µs\n",
            "Wall time: 49.4 µs\n"
          ]
        },
        {
          "output_type": "execute_result",
          "data": {
            "text/plain": [
              "[[50, 62, 74, 86],\n",
              " [134, 170, 206, 242],\n",
              " [218, 278, 338, 398],\n",
              " [302, 386, 470, 554]]"
            ]
          },
          "metadata": {},
          "execution_count": 781
        }
      ]
    },
    {
      "cell_type": "code",
      "execution_count": 782,
      "metadata": {
        "colab": {
          "base_uri": "https://localhost:8080/"
        },
        "id": "J96o7gPOu0zx",
        "outputId": "033d9db9-7fed-4797-81a6-b51d36eb3c62"
      },
      "outputs": [
        {
          "output_type": "stream",
          "name": "stdout",
          "text": [
            "CPU times: user 0 ns, sys: 41 µs, total: 41 µs\n",
            "Wall time: 44.8 µs\n"
          ]
        },
        {
          "output_type": "execute_result",
          "data": {
            "text/plain": [
              "[[5, 8, 11, 14], [8, 13, 18, 23], [17, 28, 39, 50], [3, 5, 7, 9]]"
            ]
          },
          "metadata": {},
          "execution_count": 782
        }
      ],
      "source": [
        "%%time\n",
        "\n",
        "matmul(a, b)"
      ]
    },
    {
      "cell_type": "code",
      "source": [
        "#ejemplo 16:\n",
        "import random\n",
        "def random_matrix(m, n):\n",
        "    out = []\n",
        "    for row in range(m):\n",
        "        out.append([random.random() for _ in range(n)])\n",
        "    return out\n",
        "\n",
        "randm = random_matrix(3, 4)\n",
        "randm"
      ],
      "metadata": {
        "colab": {
          "base_uri": "https://localhost:8080/"
        },
        "id": "Co8UEvWm0gVA",
        "outputId": "1f504b2e-746a-4fb2-f09b-e1279bd26b96"
      },
      "execution_count": 783,
      "outputs": [
        {
          "output_type": "execute_result",
          "data": {
            "text/plain": [
              "[[0.6803167492946278,\n",
              "  0.9685151943120109,\n",
              "  0.7578585222534989,\n",
              "  0.8057067193169362],\n",
              " [0.7451312346669252,\n",
              "  0.5899890955365178,\n",
              "  0.2844991441639335,\n",
              "  0.41344744761133423],\n",
              " [0.36743910729477003,\n",
              "  0.17069901187699343,\n",
              "  0.042997689303072906,\n",
              "  0.047407418934977685]]"
            ]
          },
          "metadata": {},
          "execution_count": 783
        }
      ]
    },
    {
      "cell_type": "code",
      "execution_count": 784,
      "metadata": {
        "colab": {
          "base_uri": "https://localhost:8080/"
        },
        "id": "t9buNJWxu0zx",
        "outputId": "3a6b7a84-4d94-4c7f-87c0-27616cf06c36"
      },
      "outputs": [
        {
          "output_type": "execute_result",
          "data": {
            "text/plain": [
              "[[0.08702628172184801, 0.48831719754842273, 0.24218320100662316],\n",
              " [0.32811800914575273, 0.8709734438422644, 0.007407399439052997]]"
            ]
          },
          "metadata": {},
          "execution_count": 784
        }
      ],
      "source": [
        "import random\n",
        "def random_matrix(m, n):\n",
        "    out = []\n",
        "    for row in range(m):\n",
        "        out.append([random.random() for _ in range(n)])\n",
        "    return out\n",
        "\n",
        "randm = random_matrix(2, 3)\n",
        "randm"
      ]
    },
    {
      "cell_type": "code",
      "source": [
        "#ejemplo 17\n",
        "%%time\n",
        "randx = random_matrix(500, 200)\n",
        "randy = random_matrix(150, 450)\n",
        "z = matmul(randx, randy)"
      ],
      "metadata": {
        "colab": {
          "base_uri": "https://localhost:8080/"
        },
        "id": "j2V0lOV90oFB",
        "outputId": "f83c3bce-0979-4513-d334-ee244df9fcac"
      },
      "execution_count": 785,
      "outputs": [
        {
          "output_type": "stream",
          "name": "stdout",
          "text": [
            "CPU times: user 13.2 s, sys: 47.7 ms, total: 13.3 s\n",
            "Wall time: 16.2 s\n"
          ]
        }
      ]
    },
    {
      "cell_type": "code",
      "execution_count": 786,
      "metadata": {
        "scrolled": true,
        "colab": {
          "base_uri": "https://localhost:8080/"
        },
        "id": "aN_llL1Fu0zx",
        "outputId": "3729c9a4-9bda-476a-f109-1e652585ff4f"
      },
      "outputs": [
        {
          "output_type": "stream",
          "name": "stdout",
          "text": [
            "CPU times: user 14.1 s, sys: 73.7 ms, total: 14.1 s\n",
            "Wall time: 16.8 s\n"
          ]
        }
      ],
      "source": [
        "%%time\n",
        "randa = random_matrix(600, 100)\n",
        "randb = random_matrix(100, 600)\n",
        "x = matmul(randa, randb)"
      ]
    },
    {
      "cell_type": "code",
      "source": [
        "#ejemplo 18\n",
        "def python_dot_product(xs, ys):\n",
        "    return sum(x * y for x, y in zip(xs, ys))\n"
      ],
      "metadata": {
        "id": "wCLKNWXZ06TI"
      },
      "execution_count": 787,
      "outputs": []
    },
    {
      "cell_type": "code",
      "execution_count": 788,
      "metadata": {
        "collapsed": true,
        "id": "sR6reCXlu0zy"
      },
      "outputs": [],
      "source": [
        "# Maybe that's not that bad?  Let's try a simpler case.\n",
        "def python_dot_product(xs, ys):\n",
        "    return sum(x * y for x, y in zip(xs, ys))"
      ]
    },
    {
      "cell_type": "code",
      "source": [
        "#ejemplo 19:\n",
        "\n",
        "list_dato = [float(i) for i in range(50000)]\n",
        "array_dato = np.array(list_dato)"
      ],
      "metadata": {
        "id": "18XqnzeI1IHD"
      },
      "execution_count": 789,
      "outputs": []
    },
    {
      "cell_type": "code",
      "execution_count": 790,
      "metadata": {
        "collapsed": true,
        "id": "hOhtbiMSu0zy"
      },
      "outputs": [],
      "source": [
        "list_data = [float(i) for i in range(100000)]\n",
        "array_data = np.array(list_data)"
      ]
    },
    {
      "cell_type": "code",
      "source": [
        "#ejemplo 20:\n",
        "%%time\n",
        "python_dot_product(list_dato, list_dato)\n"
      ],
      "metadata": {
        "colab": {
          "base_uri": "https://localhost:8080/"
        },
        "id": "5YNms5_m1QMJ",
        "outputId": "da305002-4d16-4c6a-a799-ec6ad4aa8695"
      },
      "execution_count": 791,
      "outputs": [
        {
          "output_type": "stream",
          "name": "stdout",
          "text": [
            "CPU times: user 6.83 ms, sys: 0 ns, total: 6.83 ms\n",
            "Wall time: 6.78 ms\n"
          ]
        },
        {
          "output_type": "execute_result",
          "data": {
            "text/plain": [
              "41665416675000.0"
            ]
          },
          "metadata": {},
          "execution_count": 791
        }
      ]
    },
    {
      "cell_type": "code",
      "execution_count": 792,
      "metadata": {
        "colab": {
          "base_uri": "https://localhost:8080/"
        },
        "id": "bbvZvGe-u0zy",
        "outputId": "53bb14bc-b5b2-4201-ea59-590e1c700923"
      },
      "outputs": [
        {
          "output_type": "stream",
          "name": "stdout",
          "text": [
            "CPU times: user 11.1 ms, sys: 0 ns, total: 11.1 ms\n",
            "Wall time: 11.7 ms\n"
          ]
        },
        {
          "output_type": "execute_result",
          "data": {
            "text/plain": [
              "333328333350000.0"
            ]
          },
          "metadata": {},
          "execution_count": 792
        }
      ],
      "source": [
        "%%time\n",
        "python_dot_product(list_data, list_data)"
      ]
    },
    {
      "cell_type": "code",
      "source": [
        "#ejemplo 21:\n",
        "%%time\n",
        "fortran_dot_product(array_dato, array_dato)"
      ],
      "metadata": {
        "colab": {
          "base_uri": "https://localhost:8080/"
        },
        "id": "iKBRSmH61aZY",
        "outputId": "444a6486-9a42-460e-f912-c5b631154bf0"
      },
      "execution_count": 793,
      "outputs": [
        {
          "output_type": "stream",
          "name": "stdout",
          "text": [
            "CPU times: user 139 µs, sys: 0 ns, total: 139 µs\n",
            "Wall time: 144 µs\n"
          ]
        },
        {
          "output_type": "execute_result",
          "data": {
            "text/plain": [
              "41665416675000.0"
            ]
          },
          "metadata": {},
          "execution_count": 793
        }
      ]
    },
    {
      "cell_type": "code",
      "execution_count": 794,
      "metadata": {
        "colab": {
          "base_uri": "https://localhost:8080/"
        },
        "id": "N9ZAQaKEu0zz",
        "outputId": "c70ce5ba-6026-4728-975f-9b47915507c0"
      },
      "outputs": [
        {
          "output_type": "stream",
          "name": "stdout",
          "text": [
            "CPU times: user 210 µs, sys: 0 ns, total: 210 µs\n",
            "Wall time: 219 µs\n"
          ]
        },
        {
          "output_type": "execute_result",
          "data": {
            "text/plain": [
              "333328333350000.0"
            ]
          },
          "metadata": {},
          "execution_count": 794
        }
      ],
      "source": [
        "%%time\n",
        "fortran_dot_product(array_data, array_data)"
      ]
    },
    {
      "cell_type": "markdown",
      "metadata": {
        "id": "sZ8IjgiQu0zz"
      },
      "source": [
        "<center><img src=\"images/sloth.gif\" alt=\"Drawing\" style=\"width: 1080px;\"/></center>\n"
      ]
    },
    {
      "cell_type": "markdown",
      "metadata": {
        "id": "TCYhsR1Gu0zz"
      },
      "source": [
        "## Why is the Python Version so Much Slower?"
      ]
    },
    {
      "cell_type": "code",
      "source": [
        "#ejemplo 21:\n",
        "def mul_elemwise(xs, ys):\n",
        "    return [x * y for x, y in zip(xs, ys)]\n",
        "\n",
        "mul_elemwise([2, 4, 6, 8], [1, 3 + 5j, 7.0, 'nueve'])"
      ],
      "metadata": {
        "colab": {
          "base_uri": "https://localhost:8080/"
        },
        "id": "5_bt4Ozr14EP",
        "outputId": "93232650-38a5-45ff-e414-20bb137a7d64"
      },
      "execution_count": 795,
      "outputs": [
        {
          "output_type": "execute_result",
          "data": {
            "text/plain": [
              "[2, (12+20j), 42.0, 'nuevenuevenuevenuevenuevenuevenuevenueve']"
            ]
          },
          "metadata": {},
          "execution_count": 795
        }
      ]
    },
    {
      "cell_type": "code",
      "execution_count": 796,
      "metadata": {
        "colab": {
          "base_uri": "https://localhost:8080/"
        },
        "id": "7XdKNDVQu0zz",
        "outputId": "13796aac-916b-4b88-8ff5-d362e12af4fc"
      },
      "outputs": [
        {
          "output_type": "execute_result",
          "data": {
            "text/plain": [
              "[1, (4+0j), 9.0, 'fourfourfourfour']"
            ]
          },
          "metadata": {},
          "execution_count": 796
        }
      ],
      "source": [
        "# Dynamic typing.\n",
        "def mul_elemwise(xs, ys):\n",
        "    return [x * y for x, y in zip(xs, ys)]\n",
        "\n",
        "mul_elemwise([1, 2, 3, 4], [1, 2 + 0j, 3.0, 'four'])\n",
        "#[type(x) for x in _]"
      ]
    },
    {
      "cell_type": "markdown",
      "metadata": {
        "id": "OU_8Vxuhu0z0"
      },
      "source": [
        "## Why is the Python Version so Slow?\n",
        "- Dynamic typing means that every single operation requires dispatching on the input type.\n",
        "- Having an interpreter means that every instruction is fetched and dispatched at runtime.\n",
        "- Other overheads:\n",
        "  - Arbitrary-size integers.\n",
        "  - Reference-counted garbage collection."
      ]
    },
    {
      "cell_type": "markdown",
      "metadata": {
        "id": "7qnvWWaou0z0"
      },
      "source": [
        "> This is the paradox that we have to work with when we're doing scientific or numerically-intensive Python. What makes Python fast for development -- this high-level, interpreted, and dynamically-typed aspect of the language -- is exactly what makes it slow for code execution.\n",
        "\n",
        "- Jake VanderPlas, [*Losing Your Loops: Fast Numerical Computing with NumPy*](https://www.youtube.com/watch?v=EEUXKG97YRw)"
      ]
    },
    {
      "cell_type": "markdown",
      "metadata": {
        "id": "1KLydOi6u0z0"
      },
      "source": [
        "# What Do We Do?"
      ]
    },
    {
      "cell_type": "markdown",
      "metadata": {
        "id": "xoqB5PIsu0z0"
      },
      "source": [
        "<center><img src=\"images/runaway.gif\" alt=\"Drawing\" style=\"width: 50%;\"/></center>"
      ]
    },
    {
      "cell_type": "markdown",
      "metadata": {
        "id": "lAwrXufju0z0"
      },
      "source": [
        "<center><img src=\"images/thisisfine.gif\" alt=\"Drawing\" style=\"width: 1080px;\"/></center>"
      ]
    },
    {
      "cell_type": "markdown",
      "metadata": {
        "id": "6-DjRgpbu0z1"
      },
      "source": [
        "- Python is slow for numerical computation because it performs dynamic dispatch on every operation we perform..."
      ]
    },
    {
      "cell_type": "markdown",
      "metadata": {
        "collapsed": true,
        "id": "6ZiNva3Bu0z1"
      },
      "source": [
        "- ...but often, we just want to do the same thing over and over in a loop!"
      ]
    },
    {
      "cell_type": "markdown",
      "metadata": {
        "id": "LYdsfDPYu0z1"
      },
      "source": [
        "- If we don't need Python's dynamicism, we don't want to pay (much) for it."
      ]
    },
    {
      "cell_type": "markdown",
      "metadata": {
        "id": "9ruU_CEbu0z1"
      },
      "source": [
        "- **Idea:** Dispatch **once per operation** instead of **once per element**."
      ]
    },
    {
      "cell_type": "code",
      "source": [
        "#ejemplo 23:\n",
        "dato = np.array([2, 4, 6, 8])\n",
        "dato\n"
      ],
      "metadata": {
        "colab": {
          "base_uri": "https://localhost:8080/"
        },
        "id": "t23Jvd622Lzn",
        "outputId": "d6634475-b277-4160-d246-02d212dc645b"
      },
      "execution_count": 797,
      "outputs": [
        {
          "output_type": "execute_result",
          "data": {
            "text/plain": [
              "array([2, 4, 6, 8])"
            ]
          },
          "metadata": {},
          "execution_count": 797
        }
      ]
    },
    {
      "cell_type": "code",
      "execution_count": 798,
      "metadata": {
        "colab": {
          "base_uri": "https://localhost:8080/"
        },
        "id": "uwZcSm96u0z1",
        "outputId": "49874b1e-89f7-462c-a1ad-7f203733a29e"
      },
      "outputs": [
        {
          "output_type": "execute_result",
          "data": {
            "text/plain": [
              "array([1, 2, 3, 4])"
            ]
          },
          "metadata": {},
          "execution_count": 798
        }
      ],
      "source": [
        "import numpy as np\n",
        "\n",
        "data = np.array([1, 2, 3, 4])\n",
        "data"
      ]
    },
    {
      "cell_type": "code",
      "source": [
        "#ejemplo 24:\n",
        "dato + dato"
      ],
      "metadata": {
        "colab": {
          "base_uri": "https://localhost:8080/"
        },
        "id": "gfRCkXXZ2RhP",
        "outputId": "fb1fee6a-87b0-494e-d1a5-937731058004"
      },
      "execution_count": 799,
      "outputs": [
        {
          "output_type": "execute_result",
          "data": {
            "text/plain": [
              "array([ 4,  8, 12, 16])"
            ]
          },
          "metadata": {},
          "execution_count": 799
        }
      ]
    },
    {
      "cell_type": "code",
      "execution_count": 800,
      "metadata": {
        "colab": {
          "base_uri": "https://localhost:8080/"
        },
        "id": "EytJBD0Xu0z1",
        "outputId": "c5daa925-8b73-44d2-db76-19a53dbaa59b"
      },
      "outputs": [
        {
          "output_type": "execute_result",
          "data": {
            "text/plain": [
              "array([2, 4, 6, 8])"
            ]
          },
          "metadata": {},
          "execution_count": 800
        }
      ],
      "source": [
        "data + data"
      ]
    },
    {
      "cell_type": "code",
      "source": [
        "#ejemplo 25:\n",
        "\n",
        "%%time\n",
        "(array_dato * array_dato).sum()"
      ],
      "metadata": {
        "colab": {
          "base_uri": "https://localhost:8080/"
        },
        "id": "t-_KO8f42WB-",
        "outputId": "ff3ebe76-6b37-4f8c-a6de-ac642835d3cf"
      },
      "execution_count": 801,
      "outputs": [
        {
          "output_type": "stream",
          "name": "stdout",
          "text": [
            "CPU times: user 440 µs, sys: 16 µs, total: 456 µs\n",
            "Wall time: 467 µs\n"
          ]
        },
        {
          "output_type": "execute_result",
          "data": {
            "text/plain": [
              "41665416675000.0"
            ]
          },
          "metadata": {},
          "execution_count": 801
        }
      ]
    },
    {
      "cell_type": "code",
      "execution_count": 802,
      "metadata": {
        "colab": {
          "base_uri": "https://localhost:8080/"
        },
        "id": "aTd_DyoTu0z2",
        "outputId": "d6ba7ed8-5f07-43a1-a165-7a861f112d72"
      },
      "outputs": [
        {
          "output_type": "stream",
          "name": "stdout",
          "text": [
            "CPU times: user 673 µs, sys: 0 ns, total: 673 µs\n",
            "Wall time: 865 µs\n"
          ]
        },
        {
          "output_type": "execute_result",
          "data": {
            "text/plain": [
              "333328333350000.0"
            ]
          },
          "metadata": {},
          "execution_count": 802
        }
      ],
      "source": [
        "%%time\n",
        "# Naive dot product\n",
        "(array_data * array_data).sum()"
      ]
    },
    {
      "cell_type": "code",
      "source": [
        "#ejemplo 26:\n",
        "array_dato.dot(array_dato)\n"
      ],
      "metadata": {
        "colab": {
          "base_uri": "https://localhost:8080/"
        },
        "id": "82fySACf2c3Q",
        "outputId": "96120315-e920-41c4-9e58-cc8de6ab42ad"
      },
      "execution_count": 803,
      "outputs": [
        {
          "output_type": "execute_result",
          "data": {
            "text/plain": [
              "41665416675000.0"
            ]
          },
          "metadata": {},
          "execution_count": 803
        }
      ]
    },
    {
      "cell_type": "code",
      "execution_count": 804,
      "metadata": {
        "colab": {
          "base_uri": "https://localhost:8080/"
        },
        "id": "ofj_7QrLu0z2",
        "outputId": "f4d1d911-76b2-4f98-b2a7-941f6d7e0d01"
      },
      "outputs": [
        {
          "output_type": "stream",
          "name": "stdout",
          "text": [
            "CPU times: user 0 ns, sys: 254 µs, total: 254 µs\n",
            "Wall time: 135 µs\n"
          ]
        },
        {
          "output_type": "execute_result",
          "data": {
            "text/plain": [
              "333328333350000.0"
            ]
          },
          "metadata": {},
          "execution_count": 804
        }
      ],
      "source": [
        "%%time\n",
        "# Built-in dot product.\n",
        "array_data.dot(array_data)"
      ]
    },
    {
      "cell_type": "code",
      "source": [
        "#ejemplo 27:\n",
        "%%time\n",
        "fortran_dot_product(array_dato, array_dato)"
      ],
      "metadata": {
        "colab": {
          "base_uri": "https://localhost:8080/"
        },
        "id": "bm0KYqRh2goP",
        "outputId": "f7ba2036-dd58-44c5-9c71-aa4e8a1e9991"
      },
      "execution_count": 805,
      "outputs": [
        {
          "output_type": "stream",
          "name": "stdout",
          "text": [
            "CPU times: user 105 µs, sys: 0 ns, total: 105 µs\n",
            "Wall time: 111 µs\n"
          ]
        },
        {
          "output_type": "execute_result",
          "data": {
            "text/plain": [
              "41665416675000.0"
            ]
          },
          "metadata": {},
          "execution_count": 805
        }
      ]
    },
    {
      "cell_type": "code",
      "execution_count": 806,
      "metadata": {
        "colab": {
          "base_uri": "https://localhost:8080/"
        },
        "id": "bIJYWeZeu0z2",
        "outputId": "6b711b8f-360e-4079-f27a-4bac93bbabe7"
      },
      "outputs": [
        {
          "output_type": "stream",
          "name": "stdout",
          "text": [
            "CPU times: user 192 µs, sys: 7 µs, total: 199 µs\n",
            "Wall time: 209 µs\n"
          ]
        },
        {
          "output_type": "execute_result",
          "data": {
            "text/plain": [
              "333328333350000.0"
            ]
          },
          "metadata": {},
          "execution_count": 806
        }
      ],
      "source": [
        "%%time\n",
        "fortran_dot_product(array_data, array_data)"
      ]
    },
    {
      "cell_type": "code",
      "source": [
        "#ejemplo 28:\n",
        "\n",
        "dos_por_dos = dato.reshape(2, 2)\n",
        "dos_por_dos"
      ],
      "metadata": {
        "colab": {
          "base_uri": "https://localhost:8080/"
        },
        "id": "RXGHiBAu2nBu",
        "outputId": "c0b15752-dff6-4e43-a7f0-3e13fee01d5f"
      },
      "execution_count": 807,
      "outputs": [
        {
          "output_type": "execute_result",
          "data": {
            "text/plain": [
              "array([[2, 4],\n",
              "       [6, 8]])"
            ]
          },
          "metadata": {},
          "execution_count": 807
        }
      ]
    },
    {
      "cell_type": "code",
      "execution_count": 808,
      "metadata": {
        "collapsed": true,
        "colab": {
          "base_uri": "https://localhost:8080/"
        },
        "id": "Nj4Ap-4xu0z3",
        "outputId": "fdc811eb-18cb-45ee-cd50-a37e927fe6dd"
      },
      "outputs": [
        {
          "output_type": "execute_result",
          "data": {
            "text/plain": [
              "array([[1, 2],\n",
              "       [3, 4]])"
            ]
          },
          "metadata": {},
          "execution_count": 808
        }
      ],
      "source": [
        "# We **can** reshape an array though.\n",
        "two_by_two = data.reshape(2, 2)\n",
        "two_by_two"
      ]
    },
    {
      "cell_type": "markdown",
      "metadata": {
        "id": "gUdoCtIeu0z3"
      },
      "source": [
        "Numpy arrays are:\n",
        "\n",
        "- Fixed-type"
      ]
    },
    {
      "cell_type": "markdown",
      "metadata": {
        "id": "yoK6GmwQu0z3"
      },
      "source": [
        "- Size-immutable"
      ]
    },
    {
      "cell_type": "markdown",
      "metadata": {
        "id": "rb__wzjsu0z3"
      },
      "source": [
        "- Multi-dimensional"
      ]
    },
    {
      "cell_type": "markdown",
      "metadata": {
        "id": "bL9b0xEWu0z3"
      },
      "source": [
        "- Fast\\*"
      ]
    },
    {
      "cell_type": "markdown",
      "metadata": {
        "id": "uUX5GqK-u0z3"
      },
      "source": [
        "\\* If you use them correctly."
      ]
    },
    {
      "cell_type": "markdown",
      "metadata": {
        "id": "tJGQVKAQu0z4"
      },
      "source": [
        "# What's in an Array?"
      ]
    },
    {
      "cell_type": "code",
      "source": [
        "#ejemplo 29:\n",
        "\n",
        "arr = np.array([44, 223, 543, 411, 555, 126], dtype='int16').reshape(3, 2)\n",
        "print(\"Array:\\n\", arr, sep='')\n",
        "print(\"===========\")\n",
        "print(\"DType:\", arr.dtype)\n",
        "print(\"Shape:\", arr.shape)\n",
        "print(\"Strides:\", arr.strides)\n",
        "print(\"Data:\", arr.data.tobytes())"
      ],
      "metadata": {
        "colab": {
          "base_uri": "https://localhost:8080/"
        },
        "id": "Rn-3QAlG2z_k",
        "outputId": "238c3015-fe76-4832-c37e-52877d41dc60"
      },
      "execution_count": 809,
      "outputs": [
        {
          "output_type": "stream",
          "name": "stdout",
          "text": [
            "Array:\n",
            "[[ 44 223]\n",
            " [543 411]\n",
            " [555 126]]\n",
            "===========\n",
            "DType: int16\n",
            "Shape: (3, 2)\n",
            "Strides: (4, 2)\n",
            "Data: b',\\x00\\xdf\\x00\\x1f\\x02\\x9b\\x01+\\x02~\\x00'\n"
          ]
        }
      ]
    },
    {
      "cell_type": "code",
      "execution_count": 810,
      "metadata": {
        "colab": {
          "base_uri": "https://localhost:8080/"
        },
        "id": "ercjhuFVu0z4",
        "outputId": "171e68d9-c19c-4a97-8b7f-06b13e0be1ed"
      },
      "outputs": [
        {
          "output_type": "stream",
          "name": "stdout",
          "text": [
            "Array:\n",
            "[[1 2 3]\n",
            " [4 5 6]]\n",
            "===========\n",
            "DType: int16\n",
            "Shape: (2, 3)\n",
            "Strides: (6, 2)\n",
            "Data: b'\\x01\\x00\\x02\\x00\\x03\\x00\\x04\\x00\\x05\\x00\\x06\\x00'\n"
          ]
        }
      ],
      "source": [
        "arr = np.array([1, 2, 3, 4, 5, 6], dtype='int16').reshape(2, 3)\n",
        "print(\"Array:\\n\", arr, sep='')\n",
        "print(\"===========\")\n",
        "print(\"DType:\", arr.dtype)\n",
        "print(\"Shape:\", arr.shape)\n",
        "print(\"Strides:\", arr.strides)\n",
        "print(\"Data:\", arr.data.tobytes())"
      ]
    },
    {
      "cell_type": "markdown",
      "metadata": {
        "id": "_RYyYy8ku0z4"
      },
      "source": [
        "# Core Operations\n",
        "\n",
        "- Vectorized **ufuncs** for elementwise operations.\n",
        "- Fancy indexing and masking for selection and filtering.\n",
        "- Aggregations across axes.\n",
        "- Broadcasting"
      ]
    },
    {
      "cell_type": "markdown",
      "metadata": {
        "id": "1AXB71WGu0z4"
      },
      "source": [
        "# UFuncs\n",
        "\n",
        "UFuncs (universal functions) are functions that operate elementwise on one or more arrays."
      ]
    },
    {
      "cell_type": "code",
      "source": [
        "#ejemplo 30:\n",
        "dato = np.arange(25).reshape(5, 5)\n",
        "dato"
      ],
      "metadata": {
        "colab": {
          "base_uri": "https://localhost:8080/"
        },
        "id": "IL10bcC03VV3",
        "outputId": "76ba4e01-5030-45e7-d196-bfd50ec9f311"
      },
      "execution_count": 811,
      "outputs": [
        {
          "output_type": "execute_result",
          "data": {
            "text/plain": [
              "array([[ 0,  1,  2,  3,  4],\n",
              "       [ 5,  6,  7,  8,  9],\n",
              "       [10, 11, 12, 13, 14],\n",
              "       [15, 16, 17, 18, 19],\n",
              "       [20, 21, 22, 23, 24]])"
            ]
          },
          "metadata": {},
          "execution_count": 811
        }
      ]
    },
    {
      "cell_type": "code",
      "execution_count": 812,
      "metadata": {
        "colab": {
          "base_uri": "https://localhost:8080/"
        },
        "id": "rPYy7aQVu0z4",
        "outputId": "5ff6cc20-a825-4174-af72-c4c1f1227d7c"
      },
      "outputs": [
        {
          "output_type": "execute_result",
          "data": {
            "text/plain": [
              "array([[ 0,  1,  2,  3,  4],\n",
              "       [ 5,  6,  7,  8,  9],\n",
              "       [10, 11, 12, 13, 14]])"
            ]
          },
          "metadata": {},
          "execution_count": 812
        }
      ],
      "source": [
        "data = np.arange(15).reshape(3, 5)\n",
        "data"
      ]
    },
    {
      "cell_type": "code",
      "source": [
        "#ejemplo 31:\n",
        "dato*dato"
      ],
      "metadata": {
        "colab": {
          "base_uri": "https://localhost:8080/"
        },
        "id": "bMGI0xK13fFf",
        "outputId": "69f3d68f-a9a6-4502-832c-640d5008d236"
      },
      "execution_count": 813,
      "outputs": [
        {
          "output_type": "execute_result",
          "data": {
            "text/plain": [
              "array([[  0,   1,   4,   9,  16],\n",
              "       [ 25,  36,  49,  64,  81],\n",
              "       [100, 121, 144, 169, 196],\n",
              "       [225, 256, 289, 324, 361],\n",
              "       [400, 441, 484, 529, 576]])"
            ]
          },
          "metadata": {},
          "execution_count": 813
        }
      ]
    },
    {
      "cell_type": "code",
      "execution_count": 814,
      "metadata": {
        "colab": {
          "base_uri": "https://localhost:8080/"
        },
        "id": "bwTFn9dwu0z4",
        "outputId": "17742645-a95e-4f29-d80a-c62e01b2ff5b"
      },
      "outputs": [
        {
          "output_type": "execute_result",
          "data": {
            "text/plain": [
              "array([[  0,   1,   4,   9,  16],\n",
              "       [ 25,  36,  49,  64,  81],\n",
              "       [100, 121, 144, 169, 196]])"
            ]
          },
          "metadata": {},
          "execution_count": 814
        }
      ],
      "source": [
        "# Binary operators.\n",
        "data * data"
      ]
    },
    {
      "cell_type": "code",
      "source": [
        "#ejemplo 32: \n",
        "\n",
        "np.sqrt(dato)"
      ],
      "metadata": {
        "colab": {
          "base_uri": "https://localhost:8080/"
        },
        "id": "Q5RYCpwV3ofQ",
        "outputId": "a4ad1ef2-d460-4588-e3bf-175d8134b407"
      },
      "execution_count": 815,
      "outputs": [
        {
          "output_type": "execute_result",
          "data": {
            "text/plain": [
              "array([[0.        , 1.        , 1.41421356, 1.73205081, 2.        ],\n",
              "       [2.23606798, 2.44948974, 2.64575131, 2.82842712, 3.        ],\n",
              "       [3.16227766, 3.31662479, 3.46410162, 3.60555128, 3.74165739],\n",
              "       [3.87298335, 4.        , 4.12310563, 4.24264069, 4.35889894],\n",
              "       [4.47213595, 4.58257569, 4.69041576, 4.79583152, 4.89897949]])"
            ]
          },
          "metadata": {},
          "execution_count": 815
        }
      ]
    },
    {
      "cell_type": "code",
      "execution_count": 816,
      "metadata": {
        "colab": {
          "base_uri": "https://localhost:8080/"
        },
        "id": "10mwvpK_u0z5",
        "outputId": "62631f57-a562-42bf-de48-40d706bbc320"
      },
      "outputs": [
        {
          "output_type": "execute_result",
          "data": {
            "text/plain": [
              "array([[0.        , 1.        , 1.41421356, 1.73205081, 2.        ],\n",
              "       [2.23606798, 2.44948974, 2.64575131, 2.82842712, 3.        ],\n",
              "       [3.16227766, 3.31662479, 3.46410162, 3.60555128, 3.74165739]])"
            ]
          },
          "metadata": {},
          "execution_count": 816
        }
      ],
      "source": [
        "# Unary functions.\n",
        "np.sqrt(data)"
      ]
    },
    {
      "cell_type": "code",
      "source": [
        "#ejemplo 33:\n",
        "(dato % 5) == 0"
      ],
      "metadata": {
        "colab": {
          "base_uri": "https://localhost:8080/"
        },
        "id": "fP5Pie5O3saz",
        "outputId": "ca9de106-634a-4c13-c5a0-96c8bad273a6"
      },
      "execution_count": 817,
      "outputs": [
        {
          "output_type": "execute_result",
          "data": {
            "text/plain": [
              "array([[ True, False, False, False, False],\n",
              "       [ True, False, False, False, False],\n",
              "       [ True, False, False, False, False],\n",
              "       [ True, False, False, False, False],\n",
              "       [ True, False, False, False, False]])"
            ]
          },
          "metadata": {},
          "execution_count": 817
        }
      ]
    },
    {
      "cell_type": "code",
      "execution_count": 818,
      "metadata": {
        "colab": {
          "base_uri": "https://localhost:8080/"
        },
        "id": "T-zDm-Giu0z5",
        "outputId": "97f560ca-b891-4e29-fea8-ce376887199c"
      },
      "outputs": [
        {
          "output_type": "execute_result",
          "data": {
            "text/plain": [
              "array([[ True, False, False,  True, False],\n",
              "       [False,  True, False, False,  True],\n",
              "       [False, False,  True, False, False]])"
            ]
          },
          "metadata": {},
          "execution_count": 818
        }
      ],
      "source": [
        "# Comparison operations\n",
        "(data % 3) == 0"
      ]
    },
    {
      "cell_type": "code",
      "source": [
        "#ejemplo 34:\n",
        "((dato % 2) == 0) & ((dato % 5) == 0)"
      ],
      "metadata": {
        "colab": {
          "base_uri": "https://localhost:8080/"
        },
        "id": "PdPt6MUy3w0W",
        "outputId": "af71bcb7-e4c7-4e95-c297-0c2a1db4c70c"
      },
      "execution_count": 819,
      "outputs": [
        {
          "output_type": "execute_result",
          "data": {
            "text/plain": [
              "array([[ True, False, False, False, False],\n",
              "       [False, False, False, False, False],\n",
              "       [ True, False, False, False, False],\n",
              "       [False, False, False, False, False],\n",
              "       [ True, False, False, False, False]])"
            ]
          },
          "metadata": {},
          "execution_count": 819
        }
      ]
    },
    {
      "cell_type": "code",
      "execution_count": 820,
      "metadata": {
        "colab": {
          "base_uri": "https://localhost:8080/"
        },
        "id": "uJMS4tsuu0z5",
        "outputId": "4e753848-ecc7-4a9a-de13-67167b5579a7"
      },
      "outputs": [
        {
          "output_type": "execute_result",
          "data": {
            "text/plain": [
              "array([[ True, False, False, False, False],\n",
              "       [False,  True, False, False, False],\n",
              "       [False, False,  True, False, False]])"
            ]
          },
          "metadata": {},
          "execution_count": 820
        }
      ],
      "source": [
        "# Boolean combinators.\n",
        "((data % 2) == 0) & ((data % 3) == 0)"
      ]
    },
    {
      "cell_type": "code",
      "source": [
        "#ejemplo 35:\n",
        "dato @ dato.T\n"
      ],
      "metadata": {
        "colab": {
          "base_uri": "https://localhost:8080/"
        },
        "id": "-F75--ae32rB",
        "outputId": "7ed13eb4-cdc7-4996-ec32-ea2fa7c1891b"
      },
      "execution_count": 821,
      "outputs": [
        {
          "output_type": "execute_result",
          "data": {
            "text/plain": [
              "array([[  30,   80,  130,  180,  230],\n",
              "       [  80,  255,  430,  605,  780],\n",
              "       [ 130,  430,  730, 1030, 1330],\n",
              "       [ 180,  605, 1030, 1455, 1880],\n",
              "       [ 230,  780, 1330, 1880, 2430]])"
            ]
          },
          "metadata": {},
          "execution_count": 821
        }
      ]
    },
    {
      "cell_type": "code",
      "execution_count": 822,
      "metadata": {
        "colab": {
          "base_uri": "https://localhost:8080/"
        },
        "id": "aX7bjZsLu0z5",
        "outputId": "62c5c004-b42b-494d-a208-b05d33c69724"
      },
      "outputs": [
        {
          "output_type": "execute_result",
          "data": {
            "text/plain": [
              "array([[ 30,  80, 130],\n",
              "       [ 80, 255, 430],\n",
              "       [130, 430, 730]])"
            ]
          },
          "metadata": {},
          "execution_count": 822
        }
      ],
      "source": [
        "# as of python 3.5, @ is matrix-multiply\n",
        "data @ data.T"
      ]
    },
    {
      "cell_type": "markdown",
      "metadata": {
        "id": "B-H0-Fqeu0z5"
      },
      "source": [
        "# UFuncs Review\n",
        "\n",
        "- UFuncs provide efficient elementwise operations applied across one or more arrays.\n",
        "- Arithmetic Operators (`+`, `*`, `/`)\n",
        "- Comparisons (`==`, `>`, `!=`)\n",
        "- Boolean Operators (`&`, `|`, `^`)\n",
        "- Trigonometric Functions (`sin`, `cos`)\n",
        "- Transcendental Functions (`exp`, `log`)"
      ]
    },
    {
      "cell_type": "markdown",
      "metadata": {
        "id": "CfVoP9DRu0z6"
      },
      "source": [
        "# Selections"
      ]
    },
    {
      "cell_type": "markdown",
      "metadata": {
        "id": "nCteD0xeu0z6"
      },
      "source": [
        "We often want to perform an operation on just a subset of our data."
      ]
    },
    {
      "cell_type": "code",
      "source": [
        "#ejemplo 36:\n",
        "senos = np.sin(np.linspace(0, 2.13, 12))\n",
        "cosenos = np.cos(np.linspace(0, 2.13, 12))\n",
        "senos"
      ],
      "metadata": {
        "colab": {
          "base_uri": "https://localhost:8080/"
        },
        "id": "HhMek4L23-e3",
        "outputId": "0cd1fad4-e2cc-4e5e-e1e8-60da76dc4c7f"
      },
      "execution_count": 823,
      "outputs": [
        {
          "output_type": "execute_result",
          "data": {
            "text/plain": [
              "array([0.        , 0.19242856, 0.37766453, 0.54878413, 0.69939127,\n",
              "       0.82385653, 0.91752766, 0.97690342, 0.99976445, 0.98525625,\n",
              "       0.93392111, 0.84767784])"
            ]
          },
          "metadata": {},
          "execution_count": 823
        }
      ]
    },
    {
      "cell_type": "code",
      "execution_count": 824,
      "metadata": {
        "colab": {
          "base_uri": "https://localhost:8080/"
        },
        "id": "MOKIUBNsu0z6",
        "outputId": "b7c2b132-99c8-44d2-d44d-be0c35b1fd07"
      },
      "outputs": [
        {
          "output_type": "execute_result",
          "data": {
            "text/plain": [
              "array([0.        , 0.34185385, 0.64251645, 0.86575984, 0.98468459,\n",
              "       0.98496101, 0.8665558 , 0.64373604, 0.34335012, 0.00159265])"
            ]
          },
          "metadata": {},
          "execution_count": 824
        }
      ],
      "source": [
        "sines = np.sin(np.linspace(0, 3.14, 10))\n",
        "cosines = np.cos(np.linspace(0, 3.14, 10))\n",
        "sines"
      ]
    },
    {
      "cell_type": "code",
      "source": [
        "#ejemplo 37:\n",
        "senos[0]"
      ],
      "metadata": {
        "colab": {
          "base_uri": "https://localhost:8080/"
        },
        "id": "FUbkiyHO4Jev",
        "outputId": "a83537f1-e8a3-4c41-ad04-709031acb438"
      },
      "execution_count": 825,
      "outputs": [
        {
          "output_type": "execute_result",
          "data": {
            "text/plain": [
              "0.0"
            ]
          },
          "metadata": {},
          "execution_count": 825
        }
      ]
    },
    {
      "cell_type": "code",
      "execution_count": 826,
      "metadata": {
        "colab": {
          "base_uri": "https://localhost:8080/"
        },
        "id": "gXZqiS-ku0z6",
        "outputId": "163ce214-b97d-4898-d07c-d47cbd857d7b"
      },
      "outputs": [
        {
          "output_type": "execute_result",
          "data": {
            "text/plain": [
              "0.0"
            ]
          },
          "metadata": {},
          "execution_count": 826
        }
      ],
      "source": [
        "# Slicing works with the same semantics as Python lists.\n",
        "sines[0]"
      ]
    },
    {
      "cell_type": "code",
      "source": [
        "#ejemplo 38:\n",
        "senos[:3]"
      ],
      "metadata": {
        "colab": {
          "base_uri": "https://localhost:8080/"
        },
        "id": "jsYqQ92k4ObY",
        "outputId": "18ae08b6-5617-4013-bbeb-f4589c89f2ff"
      },
      "execution_count": 827,
      "outputs": [
        {
          "output_type": "execute_result",
          "data": {
            "text/plain": [
              "array([0.        , 0.19242856, 0.37766453])"
            ]
          },
          "metadata": {},
          "execution_count": 827
        }
      ]
    },
    {
      "cell_type": "code",
      "execution_count": 828,
      "metadata": {
        "colab": {
          "base_uri": "https://localhost:8080/"
        },
        "id": "fkHQVXjTu0z6",
        "outputId": "501f51eb-a9b6-4308-f6f8-c5a2ae3ee103"
      },
      "outputs": [
        {
          "output_type": "execute_result",
          "data": {
            "text/plain": [
              "array([0.        , 0.34185385, 0.64251645])"
            ]
          },
          "metadata": {},
          "execution_count": 828
        }
      ],
      "source": [
        "sines[:3]  # First three elements  "
      ]
    },
    {
      "cell_type": "code",
      "source": [
        "#ejemplo 39:\n",
        "senos[5:]"
      ],
      "metadata": {
        "colab": {
          "base_uri": "https://localhost:8080/"
        },
        "id": "QAIPefI64R-P",
        "outputId": "06ccdfad-1d89-4e84-dd61-cb9eaf722e57"
      },
      "execution_count": 829,
      "outputs": [
        {
          "output_type": "execute_result",
          "data": {
            "text/plain": [
              "array([0.82385653, 0.91752766, 0.97690342, 0.99976445, 0.98525625,\n",
              "       0.93392111, 0.84767784])"
            ]
          },
          "metadata": {},
          "execution_count": 829
        }
      ]
    },
    {
      "cell_type": "code",
      "execution_count": 830,
      "metadata": {
        "colab": {
          "base_uri": "https://localhost:8080/"
        },
        "id": "R2trqTFMu0z7",
        "outputId": "351a2b4d-6f8a-4379-9042-655602bf3b31"
      },
      "outputs": [
        {
          "output_type": "execute_result",
          "data": {
            "text/plain": [
              "array([0.98496101, 0.8665558 , 0.64373604, 0.34335012, 0.00159265])"
            ]
          },
          "metadata": {},
          "execution_count": 830
        }
      ],
      "source": [
        "sines[5:]  # Elements from 5 on."
      ]
    },
    {
      "cell_type": "code",
      "source": [
        "#ejemplo 40:\n",
        "senos[::2]"
      ],
      "metadata": {
        "colab": {
          "base_uri": "https://localhost:8080/"
        },
        "id": "r54OugWx4U4n",
        "outputId": "e94cac6f-f32f-4611-9c25-13ba64fc0ace"
      },
      "execution_count": 831,
      "outputs": [
        {
          "output_type": "execute_result",
          "data": {
            "text/plain": [
              "array([0.        , 0.37766453, 0.69939127, 0.91752766, 0.99976445,\n",
              "       0.93392111])"
            ]
          },
          "metadata": {},
          "execution_count": 831
        }
      ]
    },
    {
      "cell_type": "code",
      "execution_count": 832,
      "metadata": {
        "colab": {
          "base_uri": "https://localhost:8080/"
        },
        "id": "vqZ_bO9_u0z7",
        "outputId": "293f93ab-d619-428a-e747-c0659e26ca81"
      },
      "outputs": [
        {
          "output_type": "execute_result",
          "data": {
            "text/plain": [
              "array([0.        , 0.64251645, 0.98468459, 0.8665558 , 0.34335012])"
            ]
          },
          "metadata": {},
          "execution_count": 832
        }
      ],
      "source": [
        "sines[::2]  # Every other element."
      ]
    },
    {
      "cell_type": "code",
      "source": [
        "#ejemplo 41:\n",
        "print(\"sines:\\n\", senos)\n",
        "print(\"sines > 0.5:\\n\", senos > 0.5)\n",
        "print(\"sines[sines > 0.5]:\\n\", senos[senos > 0.5])\n"
      ],
      "metadata": {
        "colab": {
          "base_uri": "https://localhost:8080/"
        },
        "id": "gr3BjxF54YNH",
        "outputId": "181b8223-7cb7-489f-bff4-b9ab665adf0e"
      },
      "execution_count": 833,
      "outputs": [
        {
          "output_type": "stream",
          "name": "stdout",
          "text": [
            "sines:\n",
            " [0.         0.19242856 0.37766453 0.54878413 0.69939127 0.82385653\n",
            " 0.91752766 0.97690342 0.99976445 0.98525625 0.93392111 0.84767784]\n",
            "sines > 0.5:\n",
            " [False False False  True  True  True  True  True  True  True  True  True]\n",
            "sines[sines > 0.5]:\n",
            " [0.54878413 0.69939127 0.82385653 0.91752766 0.97690342 0.99976445\n",
            " 0.98525625 0.93392111 0.84767784]\n"
          ]
        }
      ]
    },
    {
      "cell_type": "code",
      "execution_count": 834,
      "metadata": {
        "colab": {
          "base_uri": "https://localhost:8080/"
        },
        "id": "49PIqvoeu0z7",
        "outputId": "82444ec2-6491-4482-82d7-0b966be3679c"
      },
      "outputs": [
        {
          "output_type": "stream",
          "name": "stdout",
          "text": [
            "sines:\n",
            " [0.         0.34185385 0.64251645 0.86575984 0.98468459 0.98496101\n",
            " 0.8665558  0.64373604 0.34335012 0.00159265]\n",
            "sines > 0.5:\n",
            " [False False  True  True  True  True  True  True False False]\n",
            "sines[sines > 0.5]:\n",
            " [0.64251645 0.86575984 0.98468459 0.98496101 0.8665558  0.64373604]\n"
          ]
        }
      ],
      "source": [
        "# More interesting: we can index with boolean arrays to filter by a predicate.\n",
        "print(\"sines:\\n\", sines)\n",
        "print(\"sines > 0.5:\\n\", sines > 0.5)\n",
        "print(\"sines[sines > 0.5]:\\n\", sines[sines > 0.5])"
      ]
    },
    {
      "cell_type": "code",
      "source": [
        "#ejemplo 42: \n",
        "print(senos)\n",
        "senos[[0, 2, 6]]"
      ],
      "metadata": {
        "colab": {
          "base_uri": "https://localhost:8080/"
        },
        "id": "bil7_eBP4iqH",
        "outputId": "91f0c795-c37f-4a66-f213-4796e19185f5"
      },
      "execution_count": 835,
      "outputs": [
        {
          "output_type": "stream",
          "name": "stdout",
          "text": [
            "[0.         0.19242856 0.37766453 0.54878413 0.69939127 0.82385653\n",
            " 0.91752766 0.97690342 0.99976445 0.98525625 0.93392111 0.84767784]\n"
          ]
        },
        {
          "output_type": "execute_result",
          "data": {
            "text/plain": [
              "array([0.        , 0.37766453, 0.91752766])"
            ]
          },
          "metadata": {},
          "execution_count": 835
        }
      ]
    },
    {
      "cell_type": "code",
      "execution_count": 836,
      "metadata": {
        "colab": {
          "base_uri": "https://localhost:8080/"
        },
        "id": "JkdVgOWyu0z7",
        "outputId": "08c15d11-3e8e-4055-8827-53d8274a8f30"
      },
      "outputs": [
        {
          "output_type": "stream",
          "name": "stdout",
          "text": [
            "[0.         0.34185385 0.64251645 0.86575984 0.98468459 0.98496101\n",
            " 0.8665558  0.64373604 0.34335012 0.00159265]\n"
          ]
        },
        {
          "output_type": "execute_result",
          "data": {
            "text/plain": [
              "array([0.        , 0.98468459, 0.64373604])"
            ]
          },
          "metadata": {},
          "execution_count": 836
        }
      ],
      "source": [
        "# We index with lists/arrays of integers to select values at those indices.\n",
        "print(sines)\n",
        "sines[[0, 4, 7]]"
      ]
    },
    {
      "cell_type": "code",
      "source": [
        "#ejemplo 43:\n",
        "unsorted_dato = np.array([112, 3123, 234, 11232, -121, 551, -2])"
      ],
      "metadata": {
        "id": "5w0TH4mt4ni_"
      },
      "execution_count": 837,
      "outputs": []
    },
    {
      "cell_type": "code",
      "execution_count": 838,
      "metadata": {
        "collapsed": true,
        "id": "IaMlLZYEu0z8"
      },
      "outputs": [],
      "source": [
        "# Index arrays are often used for sorting one or more arrays.\n",
        "unsorted_data = np.array([1, 3, 2, 12, -1, 5, 2])"
      ]
    },
    {
      "cell_type": "code",
      "source": [
        "#ejemplo 44:\n",
        "sort_indice = np.argsort(unsorted_dato)\n",
        "sort_indice"
      ],
      "metadata": {
        "colab": {
          "base_uri": "https://localhost:8080/"
        },
        "id": "FHnf3pIN4tam",
        "outputId": "e5edf902-1c71-4a83-eef2-c03f64aa4163"
      },
      "execution_count": 839,
      "outputs": [
        {
          "output_type": "execute_result",
          "data": {
            "text/plain": [
              "array([4, 6, 0, 2, 5, 1, 3])"
            ]
          },
          "metadata": {},
          "execution_count": 839
        }
      ]
    },
    {
      "cell_type": "code",
      "execution_count": 840,
      "metadata": {
        "colab": {
          "base_uri": "https://localhost:8080/"
        },
        "id": "dlGW9Lxou0z8",
        "outputId": "c9539c33-f901-46c8-99fd-bb649f89761d"
      },
      "outputs": [
        {
          "output_type": "execute_result",
          "data": {
            "text/plain": [
              "array([4, 0, 2, 6, 1, 5, 3])"
            ]
          },
          "metadata": {},
          "execution_count": 840
        }
      ],
      "source": [
        "sort_indices = np.argsort(unsorted_data)\n",
        "sort_indices"
      ]
    },
    {
      "cell_type": "code",
      "source": [
        "#ejemplo 45:\n",
        "unsorted_dato[sort_indice]"
      ],
      "metadata": {
        "colab": {
          "base_uri": "https://localhost:8080/"
        },
        "id": "CF8SKISu4x0N",
        "outputId": "ed886d09-ec58-41eb-993a-c264a000c93f"
      },
      "execution_count": 841,
      "outputs": [
        {
          "output_type": "execute_result",
          "data": {
            "text/plain": [
              "array([ -121,    -2,   112,   234,   551,  3123, 11232])"
            ]
          },
          "metadata": {},
          "execution_count": 841
        }
      ]
    },
    {
      "cell_type": "code",
      "execution_count": 842,
      "metadata": {
        "colab": {
          "base_uri": "https://localhost:8080/"
        },
        "id": "gbgY2brfu0z8",
        "outputId": "34e2ac37-3ccd-4fe5-8e9c-edaaa259fe2e"
      },
      "outputs": [
        {
          "output_type": "execute_result",
          "data": {
            "text/plain": [
              "array([-1,  1,  2,  2,  3,  5, 12])"
            ]
          },
          "metadata": {},
          "execution_count": 842
        }
      ],
      "source": [
        "unsorted_data[sort_indices]"
      ]
    },
    {
      "cell_type": "code",
      "source": [
        "#ejemplo 46:\n",
        "\n",
        "market_capos = np.array([1122, 641, 1150, 523,116]) \n",
        "assets = np.array(['D', 'R', 'S', 'H', 'E'])"
      ],
      "metadata": {
        "id": "VEoxtsj442Wj"
      },
      "execution_count": 843,
      "outputs": []
    },
    {
      "cell_type": "code",
      "execution_count": 844,
      "metadata": {
        "collapsed": true,
        "id": "rE1zZs_qu0z8"
      },
      "outputs": [],
      "source": [
        "market_caps = np.array([12, 6, 10, 5, 6])  # Presumably in dollars?\n",
        "assets = np.array(['A', 'B', 'C', 'D', 'E'])"
      ]
    },
    {
      "cell_type": "code",
      "source": [
        "#EJEMPLO 47:\n",
        "sort_by_mcapo = np.argsort(market_capos)\n",
        "assets[sort_by_mcapo]\n"
      ],
      "metadata": {
        "colab": {
          "base_uri": "https://localhost:8080/"
        },
        "id": "8LHi7p_G49Be",
        "outputId": "4124a7ae-7d9e-45c5-b359-c11f822d5670"
      },
      "execution_count": 845,
      "outputs": [
        {
          "output_type": "execute_result",
          "data": {
            "text/plain": [
              "array(['E', 'D', 'B', 'A', 'C'], dtype='<U1')"
            ]
          },
          "metadata": {},
          "execution_count": 845
        }
      ]
    },
    {
      "cell_type": "code",
      "execution_count": 846,
      "metadata": {
        "colab": {
          "base_uri": "https://localhost:8080/"
        },
        "id": "LS7c9rmqu0z9",
        "outputId": "43de1c09-a12b-4037-b19c-1b3eb38d1d10"
      },
      "outputs": [
        {
          "output_type": "execute_result",
          "data": {
            "text/plain": [
              "array(['D', 'B', 'E', 'C', 'A'], dtype='<U1')"
            ]
          },
          "metadata": {},
          "execution_count": 846
        }
      ],
      "source": [
        "# Sort assets by market cap by using the permutation that would sort market caps on ``assets``.\n",
        "sort_by_mcap = np.argsort(market_caps)\n",
        "assets[sort_by_mcap]"
      ]
    },
    {
      "cell_type": "markdown",
      "metadata": {
        "id": "YUZGQbssu0z9"
      },
      "source": [
        "On multi-dimensional arrays, we can slice along each axis independently."
      ]
    },
    {
      "cell_type": "code",
      "source": [
        "#ejemplo 48:\n",
        "dato = np.arange(36).reshape(6, 6)\n",
        "dato"
      ],
      "metadata": {
        "colab": {
          "base_uri": "https://localhost:8080/"
        },
        "id": "eqh3psOw5L3B",
        "outputId": "69c45a42-6ee0-4ad0-be1c-42544dbe3c26"
      },
      "execution_count": 847,
      "outputs": [
        {
          "output_type": "execute_result",
          "data": {
            "text/plain": [
              "array([[ 0,  1,  2,  3,  4,  5],\n",
              "       [ 6,  7,  8,  9, 10, 11],\n",
              "       [12, 13, 14, 15, 16, 17],\n",
              "       [18, 19, 20, 21, 22, 23],\n",
              "       [24, 25, 26, 27, 28, 29],\n",
              "       [30, 31, 32, 33, 34, 35]])"
            ]
          },
          "metadata": {},
          "execution_count": 847
        }
      ]
    },
    {
      "cell_type": "code",
      "execution_count": 848,
      "metadata": {
        "colab": {
          "base_uri": "https://localhost:8080/"
        },
        "id": "mCvaPv6hu0z9",
        "outputId": "17aeb1f9-10b5-4606-f1f7-73888918d760"
      },
      "outputs": [
        {
          "output_type": "execute_result",
          "data": {
            "text/plain": [
              "array([[ 0,  1,  2,  3,  4],\n",
              "       [ 5,  6,  7,  8,  9],\n",
              "       [10, 11, 12, 13, 14],\n",
              "       [15, 16, 17, 18, 19],\n",
              "       [20, 21, 22, 23, 24]])"
            ]
          },
          "metadata": {},
          "execution_count": 848
        }
      ],
      "source": [
        "data = np.arange(25).reshape(5, 5)\n",
        "data"
      ]
    },
    {
      "cell_type": "code",
      "source": [
        "#ejemplo 49:\n",
        "\n",
        "dato[:2, :2]"
      ],
      "metadata": {
        "colab": {
          "base_uri": "https://localhost:8080/"
        },
        "id": "iO_NvM1n5UM-",
        "outputId": "9a6a7a8c-eb36-431a-ad97-8b33541cefd7"
      },
      "execution_count": 849,
      "outputs": [
        {
          "output_type": "execute_result",
          "data": {
            "text/plain": [
              "array([[0, 1],\n",
              "       [6, 7]])"
            ]
          },
          "metadata": {},
          "execution_count": 849
        }
      ]
    },
    {
      "cell_type": "code",
      "execution_count": 850,
      "metadata": {
        "colab": {
          "base_uri": "https://localhost:8080/"
        },
        "id": "g6vvEsHxu0z-",
        "outputId": "e38c2ce9-6537-4090-dbf7-320b92768fd5"
      },
      "outputs": [
        {
          "output_type": "execute_result",
          "data": {
            "text/plain": [
              "array([[0, 1],\n",
              "       [5, 6]])"
            ]
          },
          "metadata": {},
          "execution_count": 850
        }
      ],
      "source": [
        "data[:2, :2]  # First two rows and first two columns."
      ]
    },
    {
      "cell_type": "code",
      "source": [
        "#ejemplo 50:\n",
        "dato[:2, [0, -1]]"
      ],
      "metadata": {
        "colab": {
          "base_uri": "https://localhost:8080/"
        },
        "id": "jZ3GijeV5XYW",
        "outputId": "0a9e7325-4696-4c14-e09b-9801a4763ee6"
      },
      "execution_count": 851,
      "outputs": [
        {
          "output_type": "execute_result",
          "data": {
            "text/plain": [
              "array([[ 0,  5],\n",
              "       [ 6, 11]])"
            ]
          },
          "metadata": {},
          "execution_count": 851
        }
      ]
    },
    {
      "cell_type": "code",
      "execution_count": 852,
      "metadata": {
        "colab": {
          "base_uri": "https://localhost:8080/"
        },
        "id": "SkPoZEQzu0z-",
        "outputId": "001e01af-5928-4a5a-863d-a47e592c8511"
      },
      "outputs": [
        {
          "output_type": "execute_result",
          "data": {
            "text/plain": [
              "array([[0, 4],\n",
              "       [5, 9]])"
            ]
          },
          "metadata": {},
          "execution_count": 852
        }
      ],
      "source": [
        "data[:2, [0, -1]]  # First two rows, first and last columns."
      ]
    },
    {
      "cell_type": "code",
      "source": [
        "#ejemplo 51:\n",
        "dato[(dato[:, 0] % 2) == 0]"
      ],
      "metadata": {
        "colab": {
          "base_uri": "https://localhost:8080/"
        },
        "id": "cuxzVzHm5aZG",
        "outputId": "e378ccf7-e064-449f-f2f4-fa7fc0c80fc6"
      },
      "execution_count": 853,
      "outputs": [
        {
          "output_type": "execute_result",
          "data": {
            "text/plain": [
              "array([[ 0,  1,  2,  3,  4,  5],\n",
              "       [ 6,  7,  8,  9, 10, 11],\n",
              "       [12, 13, 14, 15, 16, 17],\n",
              "       [18, 19, 20, 21, 22, 23],\n",
              "       [24, 25, 26, 27, 28, 29],\n",
              "       [30, 31, 32, 33, 34, 35]])"
            ]
          },
          "metadata": {},
          "execution_count": 853
        }
      ]
    },
    {
      "cell_type": "code",
      "execution_count": 854,
      "metadata": {
        "colab": {
          "base_uri": "https://localhost:8080/"
        },
        "id": "gu_dB8zxu0z-",
        "outputId": "8c5dd4c0-1377-459b-d034-fd2603d543a3"
      },
      "outputs": [
        {
          "output_type": "execute_result",
          "data": {
            "text/plain": [
              "array([[ 0,  1,  2,  3,  4],\n",
              "       [10, 11, 12, 13, 14],\n",
              "       [20, 21, 22, 23, 24]])"
            ]
          },
          "metadata": {},
          "execution_count": 854
        }
      ],
      "source": [
        "data[(data[:, 0] % 2) == 0]  # Rows where the first column is divisible by two."
      ]
    },
    {
      "cell_type": "markdown",
      "metadata": {
        "id": "fMaBGwZSu0z-"
      },
      "source": [
        "# Selections Review\n",
        "\n",
        "- Indexing with an integer removes a dimension.\n",
        "- Slicing operations work on Numpy arrays the same way they do on lists.\n",
        "- Indexing with a boolean array filters to True locations.\n",
        "- Indexing with an integer array selects indices along an axis.\n",
        "- Multidimensional arrays can apply selections independently along different axes."
      ]
    },
    {
      "cell_type": "markdown",
      "metadata": {
        "id": "A2zzmYu9u0z-"
      },
      "source": [
        "## Reductions\n",
        "\n",
        "Functions that reduce an array to a scalar."
      ]
    },
    {
      "cell_type": "markdown",
      "metadata": {
        "id": "4bySnq_ku0z_"
      },
      "source": [
        "$Var(X) = \\frac{1}{N}\\sqrt{\\sum_{i=1}^N (x_i - \\bar{x})^2}$"
      ]
    },
    {
      "cell_type": "code",
      "execution_count": 855,
      "metadata": {
        "collapsed": true,
        "id": "FySt1wY6u0z_"
      },
      "outputs": [],
      "source": [
        "def variance(x):\n",
        "    return ((x - x.mean()) ** 2).sum() / len(x)"
      ]
    },
    {
      "cell_type": "code",
      "source": [
        "#ejemplo 52:\n",
        "variance(np.random.standard_normal(2500))"
      ],
      "metadata": {
        "colab": {
          "base_uri": "https://localhost:8080/"
        },
        "id": "e7JngHD15o0U",
        "outputId": "ac27015f-4cab-4caf-8463-cfe7462afbdd"
      },
      "execution_count": 856,
      "outputs": [
        {
          "output_type": "execute_result",
          "data": {
            "text/plain": [
              "1.0194869572755532"
            ]
          },
          "metadata": {},
          "execution_count": 856
        }
      ]
    },
    {
      "cell_type": "code",
      "execution_count": 857,
      "metadata": {
        "colab": {
          "base_uri": "https://localhost:8080/"
        },
        "id": "OGxk5PHlu0z_",
        "outputId": "2c4772ee-4fbd-4ac0-a574-e0e3513fcf95"
      },
      "outputs": [
        {
          "output_type": "execute_result",
          "data": {
            "text/plain": [
              "0.9964652990607551"
            ]
          },
          "metadata": {},
          "execution_count": 857
        }
      ],
      "source": [
        "variance(np.random.standard_normal(1000))"
      ]
    },
    {
      "cell_type": "markdown",
      "metadata": {
        "id": "UxefctVvu0z_"
      },
      "source": [
        "- `sum()` and `mean()` are both **reductions**."
      ]
    },
    {
      "cell_type": "markdown",
      "metadata": {
        "id": "kQW68tkBu0z_"
      },
      "source": [
        "- In the simplest case, we use these to reduce an entire array into a single value..."
      ]
    },
    {
      "cell_type": "code",
      "source": [
        "#ejemplo 53:\n",
        "dato = np.arange(145)\n",
        "dato.mean()"
      ],
      "metadata": {
        "colab": {
          "base_uri": "https://localhost:8080/"
        },
        "id": "YYNLn5Ne5uTO",
        "outputId": "4cd423ef-d3a3-4783-acf1-9f367e37c8ae"
      },
      "execution_count": 858,
      "outputs": [
        {
          "output_type": "execute_result",
          "data": {
            "text/plain": [
              "72.0"
            ]
          },
          "metadata": {},
          "execution_count": 858
        }
      ]
    },
    {
      "cell_type": "code",
      "execution_count": 859,
      "metadata": {
        "colab": {
          "base_uri": "https://localhost:8080/"
        },
        "id": "Rk0b_M75u00A",
        "outputId": "1ba7f64a-a0a7-4dec-831f-509caa93383d"
      },
      "outputs": [
        {
          "output_type": "execute_result",
          "data": {
            "text/plain": [
              "14.5"
            ]
          },
          "metadata": {},
          "execution_count": 859
        }
      ],
      "source": [
        "data = np.arange(30)\n",
        "data.mean()"
      ]
    },
    {
      "cell_type": "markdown",
      "metadata": {
        "id": "wX4nn95Fu00A"
      },
      "source": [
        "- ...but we can do more interesting things with multi-dimensional arrays."
      ]
    },
    {
      "cell_type": "code",
      "source": [
        "#ejemplo 54:\n",
        "dato = np.arange(45).reshape(3, 15)\n",
        "dato"
      ],
      "metadata": {
        "colab": {
          "base_uri": "https://localhost:8080/"
        },
        "id": "QScIKfaU51Kn",
        "outputId": "b0be4b21-ee15-4aa3-9cc9-59bfdf1abe58"
      },
      "execution_count": 860,
      "outputs": [
        {
          "output_type": "execute_result",
          "data": {
            "text/plain": [
              "array([[ 0,  1,  2,  3,  4,  5,  6,  7,  8,  9, 10, 11, 12, 13, 14],\n",
              "       [15, 16, 17, 18, 19, 20, 21, 22, 23, 24, 25, 26, 27, 28, 29],\n",
              "       [30, 31, 32, 33, 34, 35, 36, 37, 38, 39, 40, 41, 42, 43, 44]])"
            ]
          },
          "metadata": {},
          "execution_count": 860
        }
      ]
    },
    {
      "cell_type": "code",
      "execution_count": 861,
      "metadata": {
        "colab": {
          "base_uri": "https://localhost:8080/"
        },
        "id": "xycVW7PJu00A",
        "outputId": "ac21f4fb-5820-4671-a419-b19aaf79d153"
      },
      "outputs": [
        {
          "output_type": "execute_result",
          "data": {
            "text/plain": [
              "array([[ 0,  1,  2,  3,  4,  5,  6,  7,  8,  9],\n",
              "       [10, 11, 12, 13, 14, 15, 16, 17, 18, 19],\n",
              "       [20, 21, 22, 23, 24, 25, 26, 27, 28, 29]])"
            ]
          },
          "metadata": {},
          "execution_count": 861
        }
      ],
      "source": [
        "data = np.arange(30).reshape(3, 10)\n",
        "data"
      ]
    },
    {
      "cell_type": "code",
      "source": [
        "#ejemplo 55:\n",
        "dato.mean()\n"
      ],
      "metadata": {
        "colab": {
          "base_uri": "https://localhost:8080/"
        },
        "id": "-rzAtKuo57TD",
        "outputId": "627b1bd7-3375-4ccf-8b93-49a0b5565d19"
      },
      "execution_count": 862,
      "outputs": [
        {
          "output_type": "execute_result",
          "data": {
            "text/plain": [
              "22.0"
            ]
          },
          "metadata": {},
          "execution_count": 862
        }
      ]
    },
    {
      "cell_type": "code",
      "execution_count": 863,
      "metadata": {
        "colab": {
          "base_uri": "https://localhost:8080/"
        },
        "id": "LdbTkf4qu00A",
        "outputId": "5d155f58-86fa-49e2-beb4-e8741c03793b"
      },
      "outputs": [
        {
          "output_type": "execute_result",
          "data": {
            "text/plain": [
              "14.5"
            ]
          },
          "metadata": {},
          "execution_count": 863
        }
      ],
      "source": [
        "data.mean()"
      ]
    },
    {
      "cell_type": "code",
      "source": [
        "#ejemplo 56:\n",
        "dato.mean(axis=0)"
      ],
      "metadata": {
        "colab": {
          "base_uri": "https://localhost:8080/"
        },
        "id": "hXjDCt1S5-7f",
        "outputId": "f27ca948-25e6-41d7-f5e6-dc803f53bb0b"
      },
      "execution_count": 864,
      "outputs": [
        {
          "output_type": "execute_result",
          "data": {
            "text/plain": [
              "array([15., 16., 17., 18., 19., 20., 21., 22., 23., 24., 25., 26., 27.,\n",
              "       28., 29.])"
            ]
          },
          "metadata": {},
          "execution_count": 864
        }
      ]
    },
    {
      "cell_type": "code",
      "execution_count": 865,
      "metadata": {
        "colab": {
          "base_uri": "https://localhost:8080/"
        },
        "id": "aRMFfpgSu00A",
        "outputId": "0413166c-3746-423e-8451-134aad3facd5"
      },
      "outputs": [
        {
          "output_type": "execute_result",
          "data": {
            "text/plain": [
              "array([10., 11., 12., 13., 14., 15., 16., 17., 18., 19.])"
            ]
          },
          "metadata": {},
          "execution_count": 865
        }
      ],
      "source": [
        "data.mean(axis=0)"
      ]
    },
    {
      "cell_type": "code",
      "source": [
        "#ejemplo 57: \n",
        "dato.mean(axis=1)"
      ],
      "metadata": {
        "colab": {
          "base_uri": "https://localhost:8080/"
        },
        "id": "O2ZWmTAJ6Bdu",
        "outputId": "c3d59c47-fed5-45bf-bbab-774d0d129fb5"
      },
      "execution_count": 866,
      "outputs": [
        {
          "output_type": "execute_result",
          "data": {
            "text/plain": [
              "array([ 7., 22., 37.])"
            ]
          },
          "metadata": {},
          "execution_count": 866
        }
      ]
    },
    {
      "cell_type": "code",
      "execution_count": 867,
      "metadata": {
        "colab": {
          "base_uri": "https://localhost:8080/"
        },
        "id": "dgFGbiC2u00A",
        "outputId": "7543769e-7f67-47a2-b88a-153f26037c1c"
      },
      "outputs": [
        {
          "output_type": "execute_result",
          "data": {
            "text/plain": [
              "array([ 4.5, 14.5, 24.5])"
            ]
          },
          "metadata": {},
          "execution_count": 867
        }
      ],
      "source": [
        "data.mean(axis=1)"
      ]
    },
    {
      "cell_type": "markdown",
      "metadata": {
        "id": "iGfN_AA-u00B"
      },
      "source": [
        "## Reductions Review\n",
        "\n",
        "- Reductions allow us to perform efficient aggregations over arrays.\n",
        "- We can do aggregations over a single axis to collapse a single dimension.\n",
        "- Many built-in reductions (`mean`, `sum`, `min`, `max`, `median`, ...)."
      ]
    },
    {
      "cell_type": "markdown",
      "metadata": {
        "id": "O76egV2xu00B"
      },
      "source": [
        "# Broadcasting"
      ]
    },
    {
      "cell_type": "code",
      "source": [
        "#ejemplo 58:\n",
        "fila = np.array([2, 42, 2353, 654])\n",
        "columna = np.array([[341], [224], [323]])\n",
        "print(\"fila:\\n\", fila, sep='')\n",
        "print(\"columna:\\n\", columna, sep='')"
      ],
      "metadata": {
        "colab": {
          "base_uri": "https://localhost:8080/"
        },
        "id": "WIfyZO6c6GF-",
        "outputId": "a0149869-57f0-4fd1-9b69-ed282a9aa9f7"
      },
      "execution_count": 868,
      "outputs": [
        {
          "output_type": "stream",
          "name": "stdout",
          "text": [
            "fila:\n",
            "[   2   42 2353  654]\n",
            "columna:\n",
            "[[341]\n",
            " [224]\n",
            " [323]]\n"
          ]
        }
      ]
    },
    {
      "cell_type": "code",
      "execution_count": 869,
      "metadata": {
        "colab": {
          "base_uri": "https://localhost:8080/"
        },
        "id": "Jsi2niQgu00B",
        "outputId": "bb9f6a94-f2cf-4cc4-af02-04e6e595e5e1"
      },
      "outputs": [
        {
          "output_type": "stream",
          "name": "stdout",
          "text": [
            "Row:\n",
            "[1 2 3 4]\n",
            "Column:\n",
            "[[1]\n",
            " [2]\n",
            " [3]]\n"
          ]
        }
      ],
      "source": [
        "row = np.array([1, 2, 3, 4])\n",
        "column = np.array([[1], [2], [3]])\n",
        "print(\"Row:\\n\", row, sep='')\n",
        "print(\"Column:\\n\", column, sep='')"
      ]
    },
    {
      "cell_type": "code",
      "source": [
        "#ejemplo 59:\n",
        "fila + columna"
      ],
      "metadata": {
        "colab": {
          "base_uri": "https://localhost:8080/"
        },
        "id": "on_BJS7c6SIq",
        "outputId": "04ee09ac-bcee-4179-954d-829aa7c6ffbc"
      },
      "execution_count": 870,
      "outputs": [
        {
          "output_type": "execute_result",
          "data": {
            "text/plain": [
              "array([[ 343,  383, 2694,  995],\n",
              "       [ 226,  266, 2577,  878],\n",
              "       [ 325,  365, 2676,  977]])"
            ]
          },
          "metadata": {},
          "execution_count": 870
        }
      ]
    },
    {
      "cell_type": "code",
      "execution_count": 871,
      "metadata": {
        "colab": {
          "base_uri": "https://localhost:8080/"
        },
        "id": "FBVbYGbMu00B",
        "outputId": "2f0d17bf-0a5e-4fd7-9d40-22bdb0d4914f"
      },
      "outputs": [
        {
          "output_type": "execute_result",
          "data": {
            "text/plain": [
              "array([[2, 3, 4, 5],\n",
              "       [3, 4, 5, 6],\n",
              "       [4, 5, 6, 7]])"
            ]
          },
          "metadata": {},
          "execution_count": 871
        }
      ],
      "source": [
        "row + column"
      ]
    },
    {
      "cell_type": "markdown",
      "metadata": {
        "id": "__oSh8Jru00B"
      },
      "source": [
        "<center><img src=\"images/broadcasting.png\" alt=\"Drawing\" style=\"width: 60%;\"/></center>\n",
        "\n",
        "<h5>Source: http://www.scipy-lectures.org/_images/numpy_broadcasting.png</h5>"
      ]
    },
    {
      "cell_type": "code",
      "source": [
        "#ejemplo 60:\n",
        "\n",
        "print(\"Data:\\n\", dato, sep='')\n",
        "print(\"Mean:\\n\", dato.mean(axis=0), sep='')\n",
        "print(\"Data - Mean:\\n\", dato - dato.mean(axis=0), sep='')"
      ],
      "metadata": {
        "colab": {
          "base_uri": "https://localhost:8080/"
        },
        "id": "GHc4VNMT6Wbq",
        "outputId": "247f149c-c605-4e34-f755-61a60f3e1fbf"
      },
      "execution_count": 872,
      "outputs": [
        {
          "output_type": "stream",
          "name": "stdout",
          "text": [
            "Data:\n",
            "[[ 0  1  2  3  4  5  6  7  8  9 10 11 12 13 14]\n",
            " [15 16 17 18 19 20 21 22 23 24 25 26 27 28 29]\n",
            " [30 31 32 33 34 35 36 37 38 39 40 41 42 43 44]]\n",
            "Mean:\n",
            "[15. 16. 17. 18. 19. 20. 21. 22. 23. 24. 25. 26. 27. 28. 29.]\n",
            "Data - Mean:\n",
            "[[-15. -15. -15. -15. -15. -15. -15. -15. -15. -15. -15. -15. -15. -15.\n",
            "  -15.]\n",
            " [  0.   0.   0.   0.   0.   0.   0.   0.   0.   0.   0.   0.   0.   0.\n",
            "    0.]\n",
            " [ 15.  15.  15.  15.  15.  15.  15.  15.  15.  15.  15.  15.  15.  15.\n",
            "   15.]]\n"
          ]
        }
      ]
    },
    {
      "cell_type": "code",
      "execution_count": 873,
      "metadata": {
        "colab": {
          "base_uri": "https://localhost:8080/"
        },
        "id": "8KYcoLnMu00C",
        "outputId": "ac2dd2d4-5d43-4625-cdae-0644ac1d19ad"
      },
      "outputs": [
        {
          "output_type": "stream",
          "name": "stdout",
          "text": [
            "Data:\n",
            "[[ 0  1  2  3  4  5  6  7  8  9]\n",
            " [10 11 12 13 14 15 16 17 18 19]\n",
            " [20 21 22 23 24 25 26 27 28 29]]\n",
            "Mean:\n",
            "[10. 11. 12. 13. 14. 15. 16. 17. 18. 19.]\n",
            "Data - Mean:\n",
            "[[-10. -10. -10. -10. -10. -10. -10. -10. -10. -10.]\n",
            " [  0.   0.   0.   0.   0.   0.   0.   0.   0.   0.]\n",
            " [ 10.  10.  10.  10.  10.  10.  10.  10.  10.  10.]]\n"
          ]
        }
      ],
      "source": [
        "# Broadcasting is particularly useful in conjunction with reductions.\n",
        "print(\"Data:\\n\", data, sep='')\n",
        "print(\"Mean:\\n\", data.mean(axis=0), sep='')\n",
        "print(\"Data - Mean:\\n\", data - data.mean(axis=0), sep='')"
      ]
    },
    {
      "cell_type": "markdown",
      "metadata": {
        "id": "j4FOCHLZu00C"
      },
      "source": [
        "# Broadcasting Review\n",
        "\n",
        "- Numpy operations can work on arrays of different dimensions as long as the arrays' shapes are still \"compatible\".\n",
        "- Broadcasting works by \"tiling\" the smaller array along the missing dimension.\n",
        "- The result of a broadcasted operation is always at least as large in each dimension as the largest array in that dimension."
      ]
    },
    {
      "cell_type": "markdown",
      "metadata": {
        "id": "Rjd7m9oXu00C"
      },
      "source": [
        "# Numpy Review"
      ]
    },
    {
      "cell_type": "markdown",
      "metadata": {
        "id": "otWyWllMu00C"
      },
      "source": [
        "- Numerical algorithms are slow in pure Python because the overhead dynamic dispatch dominates our runtime."
      ]
    },
    {
      "cell_type": "markdown",
      "metadata": {
        "id": "6mVNR2l_u00C"
      },
      "source": [
        "- Numpy solves this problem by:\n",
        "  1. Imposing additional restrictions on the contents of arrays.\n",
        "  2. Moving the inner loops of our algorithms into compiled C code."
      ]
    },
    {
      "cell_type": "markdown",
      "metadata": {
        "id": "ZhCQScMbu00C"
      },
      "source": [
        "- Using Numpy effectively often requires reworking an algorithms to use vectorized operations instead of for-loops, but the resulting operations are usually simpler, clearer, and faster than the pure Python equivalent."
      ]
    },
    {
      "cell_type": "markdown",
      "metadata": {
        "id": "_X7or-1Ku00D"
      },
      "source": [
        "<center><img src=\"images/unicorn.jpg\" alt=\"Drawing\" style=\"width: 75%;\"/></center>"
      ]
    },
    {
      "cell_type": "markdown",
      "metadata": {
        "id": "35v2e1Jxu00D"
      },
      "source": [
        "Numpy is great for many things, but..."
      ]
    },
    {
      "cell_type": "markdown",
      "metadata": {
        "id": "-6yOx9HRu00D"
      },
      "source": [
        "- Sometimes our data is equipped with a natural set of **labels**:\n",
        "  - Dates/Times\n",
        "  - Stock Tickers\n",
        "  - Field Names (e.g. Open/High/Low/Close)"
      ]
    },
    {
      "cell_type": "markdown",
      "metadata": {
        "id": "GlQoG8pQu00D"
      },
      "source": [
        "- Sometimes we have **more than one type of data** that we want to keep grouped together.\n",
        "  - Tables with a mix of real-valued and categorical data."
      ]
    },
    {
      "cell_type": "markdown",
      "metadata": {
        "id": "ORW4r8Ygu00D"
      },
      "source": [
        "- Sometimes we have **missing** data, which we need to ignore, fill, or otherwise work around."
      ]
    },
    {
      "cell_type": "markdown",
      "metadata": {
        "id": "Q4KFiW3yu00D"
      },
      "source": [
        "<center><img src=\"images/panda-wrangling.gif\" alt=\"Drawing\" style=\"width: 75%;\"/></center>"
      ]
    },
    {
      "cell_type": "markdown",
      "metadata": {
        "id": "x2hBNkZ_u00E"
      },
      "source": [
        "<center><img src=\"images/pandas_logo.png\" alt=\"Drawing\" style=\"width: 75%;\"/></center>\n"
      ]
    },
    {
      "cell_type": "markdown",
      "metadata": {
        "id": "g_AX0wzqu00E"
      },
      "source": [
        "Pandas extends Numpy with more complex data structures:\n",
        "\n",
        "- `Series`: 1-dimensional, homogenously-typed, labelled array.\n",
        "- `DataFrame`: 2-dimensional, semi-homogenous, labelled table."
      ]
    },
    {
      "cell_type": "markdown",
      "metadata": {
        "id": "IyaVZz8Fu00E"
      },
      "source": [
        "Pandas also provides many utilities for: \n",
        "- Input/Output\n",
        "- Data Cleaning\n",
        "- Rolling Algorithms\n",
        "- Plotting"
      ]
    },
    {
      "cell_type": "markdown",
      "metadata": {
        "id": "s_UQT7S8u00E"
      },
      "source": [
        "# Selection in Pandas"
      ]
    },
    {
      "cell_type": "code",
      "source": [
        "#ejemplo 61:\n",
        "x = pd.Series(index=['r', 's', 't', 'v', 'b'], data=[1231, 232, 3164, 154, 515])\n",
        "x"
      ],
      "metadata": {
        "colab": {
          "base_uri": "https://localhost:8080/"
        },
        "id": "ULBoCv826xD1",
        "outputId": "d2a76faa-2a0f-41b7-f264-3013c4af326b"
      },
      "execution_count": 874,
      "outputs": [
        {
          "output_type": "execute_result",
          "data": {
            "text/plain": [
              "r    1231\n",
              "s     232\n",
              "t    3164\n",
              "v     154\n",
              "b     515\n",
              "dtype: int64"
            ]
          },
          "metadata": {},
          "execution_count": 874
        }
      ]
    },
    {
      "cell_type": "code",
      "execution_count": 875,
      "metadata": {
        "colab": {
          "base_uri": "https://localhost:8080/"
        },
        "id": "TV6xwUtju00E",
        "outputId": "d3b23fb7-e496-46ca-fc05-70f35655939b"
      },
      "outputs": [
        {
          "output_type": "execute_result",
          "data": {
            "text/plain": [
              "a    1\n",
              "b    2\n",
              "c    3\n",
              "d    4\n",
              "e    5\n",
              "dtype: int64"
            ]
          },
          "metadata": {},
          "execution_count": 875
        }
      ],
      "source": [
        "s = pd.Series(index=['a', 'b', 'c', 'd', 'e'], data=[1, 2, 3, 4, 5])\n",
        "s"
      ]
    },
    {
      "cell_type": "code",
      "source": [
        "#ejemplo 62:\n",
        "print(\"The index is:\", x.index)\n",
        "print(\"The values are:\", x.values)"
      ],
      "metadata": {
        "colab": {
          "base_uri": "https://localhost:8080/"
        },
        "id": "8UCWBMd166D1",
        "outputId": "1fc5a837-dcd6-4215-ff67-f98ad1cde805"
      },
      "execution_count": 876,
      "outputs": [
        {
          "output_type": "stream",
          "name": "stdout",
          "text": [
            "The index is: Index(['r', 's', 't', 'v', 'b'], dtype='object')\n",
            "The values are: [1231  232 3164  154  515]\n"
          ]
        }
      ]
    },
    {
      "cell_type": "code",
      "execution_count": 877,
      "metadata": {
        "colab": {
          "base_uri": "https://localhost:8080/"
        },
        "id": "AYPLGN0Du00E",
        "outputId": "83b19b46-1788-46df-9bd9-a70ed397f2d0"
      },
      "outputs": [
        {
          "output_type": "stream",
          "name": "stdout",
          "text": [
            "The index is: Index(['a', 'b', 'c', 'd', 'e'], dtype='object')\n",
            "The values are: [1 2 3 4 5]\n"
          ]
        }
      ],
      "source": [
        "# There are two pieces to a Series: the index and the values.\n",
        "print(\"The index is:\", s.index)\n",
        "print(\"The values are:\", s.values)"
      ]
    },
    {
      "cell_type": "code",
      "source": [
        "#ejemplo 63:\n",
        "x.iloc[0]"
      ],
      "metadata": {
        "colab": {
          "base_uri": "https://localhost:8080/"
        },
        "id": "JB4Vau0I7Gb9",
        "outputId": "99e6adea-0bfa-4fbb-cf54-8d71b349535c"
      },
      "execution_count": 878,
      "outputs": [
        {
          "output_type": "execute_result",
          "data": {
            "text/plain": [
              "1231"
            ]
          },
          "metadata": {},
          "execution_count": 878
        }
      ]
    },
    {
      "cell_type": "code",
      "execution_count": 879,
      "metadata": {
        "colab": {
          "base_uri": "https://localhost:8080/"
        },
        "id": "0UP1FUzzu00F",
        "outputId": "7075d3f2-4945-4e79-d4f3-b276a21de0c6"
      },
      "outputs": [
        {
          "output_type": "execute_result",
          "data": {
            "text/plain": [
              "1"
            ]
          },
          "metadata": {},
          "execution_count": 879
        }
      ],
      "source": [
        "# We can look up values out of a Series by position...\n",
        "s.iloc[0]"
      ]
    },
    {
      "cell_type": "code",
      "source": [
        "#ejemplo 64:\n",
        "x.loc['r']"
      ],
      "metadata": {
        "colab": {
          "base_uri": "https://localhost:8080/"
        },
        "id": "i7qw_XSE7KJF",
        "outputId": "a9370569-46fc-44bc-d2bf-7c5e57968c1a"
      },
      "execution_count": 880,
      "outputs": [
        {
          "output_type": "execute_result",
          "data": {
            "text/plain": [
              "1231"
            ]
          },
          "metadata": {},
          "execution_count": 880
        }
      ]
    },
    {
      "cell_type": "code",
      "execution_count": 881,
      "metadata": {
        "colab": {
          "base_uri": "https://localhost:8080/"
        },
        "id": "842bHkJ4u00F",
        "outputId": "9afc89d6-e192-47b4-f1a8-90bdda5069ab"
      },
      "outputs": [
        {
          "output_type": "execute_result",
          "data": {
            "text/plain": [
              "1"
            ]
          },
          "metadata": {},
          "execution_count": 881
        }
      ],
      "source": [
        "# ... or by label.\n",
        "s.loc['a']"
      ]
    },
    {
      "cell_type": "code",
      "source": [
        "#ejemplo 65:\n",
        "x.iloc[:2]"
      ],
      "metadata": {
        "colab": {
          "base_uri": "https://localhost:8080/"
        },
        "id": "33qwbuUf7Uel",
        "outputId": "98306293-678d-41e3-e102-4a033f24636a"
      },
      "execution_count": 882,
      "outputs": [
        {
          "output_type": "execute_result",
          "data": {
            "text/plain": [
              "r    1231\n",
              "s     232\n",
              "dtype: int64"
            ]
          },
          "metadata": {},
          "execution_count": 882
        }
      ]
    },
    {
      "cell_type": "code",
      "execution_count": 883,
      "metadata": {
        "colab": {
          "base_uri": "https://localhost:8080/"
        },
        "id": "rGTbJGSfu00F",
        "outputId": "854f2195-379d-4bb3-f453-c6e8d7079c78"
      },
      "outputs": [
        {
          "output_type": "execute_result",
          "data": {
            "text/plain": [
              "a    1\n",
              "b    2\n",
              "dtype: int64"
            ]
          },
          "metadata": {},
          "execution_count": 883
        }
      ],
      "source": [
        "# Slicing works as expected...\n",
        "s.iloc[:2]"
      ]
    },
    {
      "cell_type": "code",
      "source": [
        "#ejemplo 66:\n",
        "x.loc[:'v']"
      ],
      "metadata": {
        "colab": {
          "base_uri": "https://localhost:8080/"
        },
        "id": "nWXFSV5q7bRt",
        "outputId": "a45e7c8e-a489-47d1-dfdb-0f7ca06e7582"
      },
      "execution_count": 884,
      "outputs": [
        {
          "output_type": "execute_result",
          "data": {
            "text/plain": [
              "r    1231\n",
              "s     232\n",
              "t    3164\n",
              "v     154\n",
              "dtype: int64"
            ]
          },
          "metadata": {},
          "execution_count": 884
        }
      ]
    },
    {
      "cell_type": "code",
      "execution_count": 885,
      "metadata": {
        "colab": {
          "base_uri": "https://localhost:8080/"
        },
        "id": "nXT033ouu00F",
        "outputId": "95d3a5a4-1524-40c1-d79e-2797b4151701"
      },
      "outputs": [
        {
          "output_type": "execute_result",
          "data": {
            "text/plain": [
              "a    1\n",
              "b    2\n",
              "c    3\n",
              "dtype: int64"
            ]
          },
          "metadata": {},
          "execution_count": 885
        }
      ],
      "source": [
        "# ...but it works with labels too!\n",
        "s.loc[:'c']"
      ]
    },
    {
      "cell_type": "code",
      "source": [
        "#ejemplo 67:\n",
        "x.iloc[[0, -1]]"
      ],
      "metadata": {
        "colab": {
          "base_uri": "https://localhost:8080/"
        },
        "id": "hCTQSUJK7g0V",
        "outputId": "02fcdbd3-a87e-44e3-dcf3-1096c8c49d20"
      },
      "execution_count": 886,
      "outputs": [
        {
          "output_type": "execute_result",
          "data": {
            "text/plain": [
              "r    1231\n",
              "b     515\n",
              "dtype: int64"
            ]
          },
          "metadata": {},
          "execution_count": 886
        }
      ]
    },
    {
      "cell_type": "code",
      "execution_count": 887,
      "metadata": {
        "colab": {
          "base_uri": "https://localhost:8080/"
        },
        "id": "kYIm2yA9u00G",
        "outputId": "c5831155-4ca0-44a8-b639-3b6dd1e0c040"
      },
      "outputs": [
        {
          "output_type": "execute_result",
          "data": {
            "text/plain": [
              "a    1\n",
              "e    5\n",
              "dtype: int64"
            ]
          },
          "metadata": {},
          "execution_count": 887
        }
      ],
      "source": [
        "# Fancy indexing works the same as in numpy.\n",
        "s.iloc[[0, -1]]"
      ]
    },
    {
      "cell_type": "code",
      "source": [
        "#ejemplo 68:\n",
        "x.loc[x > 144]"
      ],
      "metadata": {
        "colab": {
          "base_uri": "https://localhost:8080/"
        },
        "id": "oqddpchK7mLm",
        "outputId": "e5877b55-4320-448a-c6aa-27d3f2229dd2"
      },
      "execution_count": 888,
      "outputs": [
        {
          "output_type": "execute_result",
          "data": {
            "text/plain": [
              "r    1231\n",
              "s     232\n",
              "t    3164\n",
              "v     154\n",
              "b     515\n",
              "dtype: int64"
            ]
          },
          "metadata": {},
          "execution_count": 888
        }
      ]
    },
    {
      "cell_type": "code",
      "execution_count": 889,
      "metadata": {
        "colab": {
          "base_uri": "https://localhost:8080/"
        },
        "id": "ntcx0FGQu00G",
        "outputId": "bf4fae81-3dee-431a-9ced-1f32e11517d5"
      },
      "outputs": [
        {
          "output_type": "execute_result",
          "data": {
            "text/plain": [
              "c    3\n",
              "d    4\n",
              "e    5\n",
              "dtype: int64"
            ]
          },
          "metadata": {},
          "execution_count": 889
        }
      ],
      "source": [
        "# As does boolean masking.\n",
        "s.loc[s > 2]"
      ]
    },
    {
      "cell_type": "code",
      "source": [
        "#ejemplo 69:\n",
        "other_x = pd.Series({'a': 124, 'c': 2016.0, 'd': 13530.0, 'z': 40.450})\n",
        "other_x"
      ],
      "metadata": {
        "colab": {
          "base_uri": "https://localhost:8080/"
        },
        "id": "0tRuUM-67tBA",
        "outputId": "e59a34f5-a521-41c4-ef7d-583edca9a551"
      },
      "execution_count": 890,
      "outputs": [
        {
          "output_type": "execute_result",
          "data": {
            "text/plain": [
              "a      124.00\n",
              "c     2016.00\n",
              "d    13530.00\n",
              "z       40.45\n",
              "dtype: float64"
            ]
          },
          "metadata": {},
          "execution_count": 890
        }
      ]
    },
    {
      "cell_type": "code",
      "execution_count": 891,
      "metadata": {
        "colab": {
          "base_uri": "https://localhost:8080/"
        },
        "id": "_B3jH5AEu00G",
        "outputId": "942a3c73-6311-4090-d34f-d9cfad57368b"
      },
      "outputs": [
        {
          "output_type": "execute_result",
          "data": {
            "text/plain": [
              "a    10.0\n",
              "c    20.0\n",
              "d    30.0\n",
              "z    40.0\n",
              "dtype: float64"
            ]
          },
          "metadata": {},
          "execution_count": 891
        }
      ],
      "source": [
        "# Element-wise operations are aligned by index.\n",
        "other_s = pd.Series({'a': 10.0, 'c': 20.0, 'd': 30.0, 'z': 40.0})\n",
        "other_s"
      ]
    },
    {
      "cell_type": "code",
      "source": [
        "#ejemplo 70:\n",
        "x + other_x"
      ],
      "metadata": {
        "colab": {
          "base_uri": "https://localhost:8080/"
        },
        "id": "k0hlv8M37zOd",
        "outputId": "49f0e05f-e3d0-457e-db6a-47ef2e6a386b"
      },
      "execution_count": 892,
      "outputs": [
        {
          "output_type": "execute_result",
          "data": {
            "text/plain": [
              "a   NaN\n",
              "b   NaN\n",
              "c   NaN\n",
              "d   NaN\n",
              "r   NaN\n",
              "s   NaN\n",
              "t   NaN\n",
              "v   NaN\n",
              "z   NaN\n",
              "dtype: float64"
            ]
          },
          "metadata": {},
          "execution_count": 892
        }
      ]
    },
    {
      "cell_type": "code",
      "execution_count": 893,
      "metadata": {
        "colab": {
          "base_uri": "https://localhost:8080/"
        },
        "id": "JdpMFHZVu00G",
        "outputId": "0ae7f12f-dd0f-42fd-91eb-6790077416b7"
      },
      "outputs": [
        {
          "output_type": "execute_result",
          "data": {
            "text/plain": [
              "a    11.0\n",
              "b     NaN\n",
              "c    23.0\n",
              "d    34.0\n",
              "e     NaN\n",
              "z     NaN\n",
              "dtype: float64"
            ]
          },
          "metadata": {},
          "execution_count": 893
        }
      ],
      "source": [
        "s + other_s"
      ]
    },
    {
      "cell_type": "code",
      "source": [
        "#ejemplo 71:\n",
        "(x + other_x).fillna(0.0)"
      ],
      "metadata": {
        "colab": {
          "base_uri": "https://localhost:8080/"
        },
        "id": "SFa01BMo73Sg",
        "outputId": "a0115d72-c6df-4318-a524-1e0401ffa7fd"
      },
      "execution_count": 894,
      "outputs": [
        {
          "output_type": "execute_result",
          "data": {
            "text/plain": [
              "a    0.0\n",
              "b    0.0\n",
              "c    0.0\n",
              "d    0.0\n",
              "r    0.0\n",
              "s    0.0\n",
              "t    0.0\n",
              "v    0.0\n",
              "z    0.0\n",
              "dtype: float64"
            ]
          },
          "metadata": {},
          "execution_count": 894
        }
      ]
    },
    {
      "cell_type": "code",
      "execution_count": 895,
      "metadata": {
        "colab": {
          "base_uri": "https://localhost:8080/"
        },
        "id": "picleT2Yu00G",
        "outputId": "b7fcc52c-baf0-4420-8dee-c52e6a335b28"
      },
      "outputs": [
        {
          "output_type": "execute_result",
          "data": {
            "text/plain": [
              "a    11.0\n",
              "b     0.0\n",
              "c    23.0\n",
              "d    34.0\n",
              "e     0.0\n",
              "z     0.0\n",
              "dtype: float64"
            ]
          },
          "metadata": {},
          "execution_count": 895
        }
      ],
      "source": [
        "# We can fill in missing values with fillna().\n",
        "(s + other_s).fillna(0.0)"
      ]
    },
    {
      "cell_type": "markdown",
      "metadata": {
        "id": "yWcrh8Oou00K"
      },
      "source": [
        "# Pandas Review\n",
        "\n",
        "- Pandas extends numpy with more complex datastructures and algorithms.\n",
        "- If you understand numpy, you understand 90% of pandas.\n",
        "- `groupby`, `set_index`, and `unstack` are powerful tools for working with categorical data.\n",
        "- Avocado prices are surprisingly interesting :)"
      ]
    },
    {
      "cell_type": "markdown",
      "metadata": {
        "id": "-pyV_p0_u00K"
      },
      "source": [
        "# Thanks!"
      ]
    }
  ],
  "metadata": {
    "celltoolbar": "Slideshow",
    "kernelspec": {
      "display_name": "Python 3",
      "language": "python",
      "name": "python3"
    },
    "language_info": {
      "codemirror_mode": {
        "name": "ipython",
        "version": 3
      },
      "file_extension": ".py",
      "mimetype": "text/x-python",
      "name": "python",
      "nbconvert_exporter": "python",
      "pygments_lexer": "ipython3",
      "version": "3.5.2"
    },
    "livereveal": {
      "start_slideshow_at": "selected"
    },
    "name": "Main.ipynb",
    "colab": {
      "name": "drodriguezru__ScottsSanderson.ipynb",
      "provenance": [],
      "collapsed_sections": [
        "raz80HNYu0zt",
        "_RYyYy8ku0z4",
        "B-H0-Fqeu0z5",
        "iGfN_AA-u00B",
        "j4FOCHLZu00C",
        "yWcrh8Oou00K",
        "-pyV_p0_u00K"
      ]
    }
  },
  "nbformat": 4,
  "nbformat_minor": 0
}